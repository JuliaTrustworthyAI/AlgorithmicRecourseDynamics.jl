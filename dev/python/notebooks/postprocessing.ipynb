{
 "cells": [
  {
   "cell_type": "code",
   "execution_count": null,
   "metadata": {},
   "outputs": [],
   "source": [
    "import warnings\n",
    "warnings.filterwarnings(\"ignore\", message=r\"Passing\", category=FutureWarning)\n",
    "warnings.filterwarnings(\"ignore\", message=r\"Implicit\", category=UserWarning)\n",
    "warnings.filterwarnings(\"ignore\", message=r\"cannot\", category=UserWarning)"
   ]
  },
  {
   "cell_type": "code",
   "execution_count": null,
   "metadata": {},
   "outputs": [],
   "source": [
    "import json\n",
    "import os\n",
    "import sys\n",
    "sys.path.append('..')\n",
    "\n",
    "from model_shifts import plot_experiment"
   ]
  },
  {
   "cell_type": "code",
   "execution_count": null,
   "metadata": {},
   "outputs": [],
   "source": [
    "def process_experiment_data(experiment_path, experiment_name):\n",
    "    # filenames = [name for name in os.listdir(experiment_path) if os.path.isfile(os.path.join(f'{experiment_path}/', name))]\n",
    "    filenames = [name for name in os.listdir(experiment_path)]\n",
    "    filenames = list(filter(lambda name: name.endswith(experiment_name), filenames))\n",
    "\n",
    "    def process_dict(data, result, num):\n",
    "        for k, v in data.items():\n",
    "            # If v is a dictionary then process it recursively\n",
    "            # print(result, k)\n",
    "            if k not in result and isinstance(v, dict):\n",
    "                result[k] = {}\n",
    "                result[k] = process_dict(v, result[k], num)\n",
    "\n",
    "            elif k in result and isinstance(v, dict):\n",
    "                result[k] = process_dict(v, result[k], num)\n",
    "\n",
    "            # If v is not a dictionary and the value has not been encountered before, store it\n",
    "            elif k not in result and (isinstance(v, float) or isinstance(v, int)):\n",
    "                result[k] = (v / num)\n",
    "\n",
    "            # If v is in the dictinary and the value has been encountered before, add it\n",
    "            elif k in result and (isinstance(v, float) or isinstance(v, int)):\n",
    "                result[k] += (v / num)\n",
    "\n",
    "        return result\n",
    "\n",
    "    average_results = {}\n",
    "    for file in filenames:\n",
    "        with open(f'{experiment_path}/{file}/measurements.json') as data_file:\n",
    "            data = json.load(data_file)\n",
    "            average_results = process_dict(data, average_results, len(filenames))\n",
    "\n",
    "    return average_results"
   ]
  },
  {
   "cell_type": "code",
   "execution_count": null,
   "metadata": {},
   "outputs": [],
   "source": [
    "path = '../experiment_data'\n",
    "name = 'German_processed_NN_hidden_5_attempt_2'\n",
    "\n",
    "result = process_experiment_data(path, name)\n",
    "\n",
    "os.makedirs(f'{path}/{name}')\n",
    "with open(f'{path}/{name}/measurements.json', 'w') as outfile:\n",
    "    json.dump(result, outfile, indent=3)\n"
   ]
  },
  {
   "cell_type": "code",
   "execution_count": null,
   "metadata": {},
   "outputs": [],
   "source": [
    "config = [\n",
    "    {'type': 'pos_MMD', 'dict_path': ['MMD', 'positive', 'value']},\n",
    "    {'type': 'neg_MMD', 'dict_path': ['MMD', 'negative', 'value']},\n",
    "    {'type': 'pos_distance', 'dict_path': ['decisiveness', 'positive']},\n",
    "    {'type': 'neg_distance', 'dict_path': ['decisiveness', 'negative']},\n",
    "    {'type': 'disagreement', 'dict_path': ['disagreement']},\n",
    "    {'type': 'model_MMD', 'dict_path': ['model_MMD', 'value']},\n",
    "    {'type': 'sample_MMD', 'dict_path': ['sample_MMD', 'value']}\n",
    "]\n",
    "for c in config:\n",
    "    plot_experiment(f'{path}/{name}',\n",
    "                    ['DICE_3', 'Wachter'],\n",
    "                    c['type'],\n",
    "                    c['dict_path'],\n",
    "                    show_plot=False)"
   ]
  }
 ],
 "metadata": {
  "kernelspec": {
   "display_name": "CSE3000",
   "language": "python",
   "name": "cse3000"
  },
  "language_info": {
   "codemirror_mode": {
    "name": "ipython",
    "version": 3
   },
   "file_extension": ".py",
   "mimetype": "text/x-python",
   "name": "python",
   "nbconvert_exporter": "python",
   "pygments_lexer": "ipython3",
   "version": "3.7.13"
  },
  "orig_nbformat": 4
 },
 "nbformat": 4,
 "nbformat_minor": 2
}
