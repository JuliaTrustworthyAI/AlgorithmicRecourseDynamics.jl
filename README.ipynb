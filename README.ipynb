{
  "cells": [
    {
      "cell_type": "raw",
      "metadata": {},
      "source": [
        "---\n",
        "format:\n",
        "  commonmark:\n",
        "    variant: '-raw_html'\n",
        "    wrap: none\n",
        "execute:\n",
        "  freeze: auto\n",
        "  echo: true\n",
        "  eval: true\n",
        "  output: false\n",
        "crossref:\n",
        "  fig-prefix: Figure\n",
        "  tbl-prefix: Table\n",
        "bibliography: bib.bib\n",
        "---"
      ],
      "id": "ed6ba460"
    },
    {
      "cell_type": "markdown",
      "metadata": {},
      "source": [
        "[![Stable](https://img.shields.io/badge/docs-stable-blue.svg)](https://juliatrustworthyai.github.io/AlgorithmicRecourseDynamics.jl/stable) \n",
        "[![Dev](https://img.shields.io/badge/docs-dev-blue.svg)](https://juliatrustworthyai.github.io/AlgorithmicRecourseDynamics.jl/dev) \n",
        "[![Build Status](https://github.com/juliatrustworthyai/AlgorithmicRecourseDynamics.jl/actions/workflows/CI.yml/badge.svg?branch=main)](https://github.com/juliatrustworthyai/AlgorithmicRecourseDynamics.jl/actions/workflows/CI.yml?query=branch%3Amain) \n",
        "[![Coverage](https://codecov.io/gh/juliatrustworthyai/AlgorithmicRecourseDynamics.jl/branch/main/graph/badge.svg)](https://codecov.io/gh/juliatrustworthyai/AlgorithmicRecourseDynamics.jl) \n",
        "[![Code Style: Blue](https://img.shields.io/badge/code%20style-blue-4495d1.svg)](https://github.com/invenia/BlueStyle) \n",
        "[![ColPrac: Contributor’s Guide on Collaborative Practices for Community Packages](https://img.shields.io/badge/ColPrac-Contributor's%20Guide-blueviolet.png)](https://github.com/SciML/ColPrac) \n",
        "[![Twitter Badge](https://img.shields.io/twitter/url/https/twitter.com/paltmey.svg?style=social&label=Follow%20%40paltmey)](https://twitter.com/paltmey)\n",
        "\n",
        "# AlgorithmicRecourseDynamics"
      ],
      "id": "f41f35e2"
    },
    {
      "cell_type": "code",
      "metadata": {},
      "source": [
        "#| echo: false\n",
        "include(\"docs/setup_docs.jl\")\n",
        "eval(setup_docs)"
      ],
      "id": "67016d12",
      "execution_count": null,
      "outputs": []
    },
    {
      "cell_type": "markdown",
      "metadata": {},
      "source": [
        "`AlgorithmicRecourseDynamics.jl` is a small package for modelling Algorithmic Recourse Dynamics that was developed as part of a research paper by @altmeyer2023endogenous. It builds on `CounterfactualExplanations`, a package for generating counterfactual explanations.\n",
        "\n",
        "## 🔍 Basic Usage\n",
        "\n",
        "Below we first generate some synthetic data for a binary classification task and instantiate an instance of `CounterfactualData`."
      ],
      "id": "ea771b58"
    },
    {
      "cell_type": "code",
      "metadata": {},
      "source": [
        "N = 1000\n",
        "xmax = 2\n",
        "X, ys = make_blobs(\n",
        "    N, 2; \n",
        "    centers=2, as_table=false, center_box=(-xmax => xmax), cluster_std=0.1\n",
        ")\n",
        "ys .= ys.==2\n",
        "X = X'\n",
        "counterfactual_data = CounterfactualData(X,ys')"
      ],
      "id": "1a4b642a",
      "execution_count": null,
      "outputs": []
    },
    {
      "cell_type": "markdown",
      "metadata": {},
      "source": [
        "We then define a simple model for the task and prepare it for use with `CounterfactualExplanations.jl`:"
      ],
      "id": "c7af6ab1"
    },
    {
      "cell_type": "code",
      "metadata": {},
      "source": [
        "n_epochs = 100\n",
        "model = Chain(Dense(2,1))\n",
        "mod = FluxModel(model)"
      ],
      "id": "b6e81f3b",
      "execution_count": null,
      "outputs": []
    },
    {
      "cell_type": "markdown",
      "metadata": {},
      "source": [
        "To generate algorithmic recourse, we will use a simple generic generator:"
      ],
      "id": "3b3a960d"
    },
    {
      "cell_type": "code",
      "metadata": {},
      "source": [
        "generator = GenericGenerator()"
      ],
      "id": "5f81164c",
      "execution_count": null,
      "outputs": []
    },
    {
      "cell_type": "markdown",
      "metadata": {},
      "source": [
        "Finally we train our model on a subset of the data. The chart below shows the results."
      ],
      "id": "58b6bab8"
    },
    {
      "cell_type": "code",
      "metadata": {},
      "source": [
        "#| output: true\n",
        "\n",
        "data_train, data_test = Data.train_test_split(counterfactual_data)\n",
        "Models.train(mod, data_train; n_epochs=n_epochs)\n",
        "plt_original = plot(mod, counterfactual_data; zoom=0, colorbar=false)\n",
        "display(plt_original)"
      ],
      "id": "d2ec4fbd",
      "execution_count": null,
      "outputs": []
    },
    {
      "cell_type": "markdown",
      "metadata": {},
      "source": [
        "### Simulation\n",
        "\n",
        "To model the dynamics of algorithmic recourse, we use simulations, in which we repeatedly select as subset of individuals from the non-target class, generate and implement recourse for all of them and finally retrain the model. To set this experiment up, we can use the code below:"
      ],
      "id": "e50d3d90"
    },
    {
      "cell_type": "code",
      "metadata": {},
      "source": [
        "models = Dict(:mymodel => mod)\n",
        "generators = Dict(:wachter => generator)\n",
        "experiment = set_up_experiment(data_train, data_test, models, generators)"
      ],
      "id": "b6eb4348",
      "execution_count": null,
      "outputs": []
    },
    {
      "cell_type": "markdown",
      "metadata": {},
      "source": [
        "Finally, we just run the experiment using default parameter settings that specify the number of rounds, the proportion of individuals to select for recourse and related aspects:"
      ],
      "id": "24358c81"
    },
    {
      "cell_type": "code",
      "metadata": {},
      "source": [
        "#| output: true\n",
        "\n",
        "run!(experiment)"
      ],
      "id": "52410b98",
      "execution_count": null,
      "outputs": []
    },
    {
      "cell_type": "markdown",
      "metadata": {},
      "source": [
        "The chart below shows the data and predictions at the end of the simulation:"
      ],
      "id": "ffc69ddb"
    },
    {
      "cell_type": "code",
      "metadata": {},
      "source": [
        "#| output: true\n",
        "\n",
        "new_data = experiment.recourse_systems[1][1].data\n",
        "new_model = experiment.recourse_systems[1][1].model\n",
        "plt_original = plot(new_model, new_data; zoom=0, colorbar=false)"
      ],
      "id": "ba1b4ed9",
      "execution_count": null,
      "outputs": []
    },
    {
      "cell_type": "markdown",
      "metadata": {},
      "source": [
        "## 📝 Related Research Paper \n",
        "\n",
        "The research paper by @altmeyer2023endogenous investigates the dynamics of various counterfactual generators. You can find the details [here](https://github.com/pat-alt/endogenous-macrodynamics-in-algorithmic-recourse).\n",
        "\n",
        "## 🎓 References\n"
      ],
      "id": "d06f1731"
    }
  ],
  "metadata": {
    "kernelspec": {
      "name": "julia-1.8",
      "language": "julia",
      "display_name": "Julia 1.8.3"
    }
  },
  "nbformat": 4,
  "nbformat_minor": 5
}