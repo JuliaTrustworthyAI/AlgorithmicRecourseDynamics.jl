{
 "cells": [
  {
   "cell_type": "markdown",
   "id": "304d3628-bf58-489a-bca2-8b0060aff765",
   "metadata": {},
   "source": [
    "# Endogenous model shifts\n",
    "\n",
    "In this notebook we will use toy data to see how endogenous domain shifts and the resulting model shifts can have implications on the validity and cost of algorithmic recourse."
   ]
  },
  {
   "cell_type": "code",
   "execution_count": 2,
   "id": "e24f74db",
   "metadata": {},
   "outputs": [
    {
     "name": "stdout",
     "output_type": "stream",
     "text": [
      "\u001b[32m\u001b[1m      Status\u001b[22m\u001b[39m `~/OneDrive - Delft University of Technology/git/recourse/Project.toml`\n",
      " \u001b[90m [336ed68f] \u001b[39mCSV v0.9.11\n",
      " \u001b[90m [a93c6f00] \u001b[39mDataFrames v1.3.1\n",
      " \u001b[90m [31c24e10] \u001b[39mDistributions v0.25.14\n",
      " \u001b[90m [5789e2e9] \u001b[39mFileIO v1.11.2\n",
      " \u001b[90m [587475ba] \u001b[39mFlux v0.12.1\n",
      " \u001b[90m [916415d5] \u001b[39mImages v0.24.1\n",
      " \u001b[90m [6f49c342] \u001b[39mRCall v0.13.12\n",
      " \u001b[90m [fce5fe82] \u001b[39mTuring v0.19.2\n"
     ]
    },
    {
     "name": "stderr",
     "output_type": "stream",
     "text": [
      "\u001b[32m\u001b[1m  Activating\u001b[22m\u001b[39m project at `~/OneDrive - Delft University of Technology/git/recourse`\n"
     ]
    }
   ],
   "source": [
    "using Pkg\n",
    "Pkg.activate(\"../\")\n"
   ]
  },
  {
   "cell_type": "code",
   "execution_count": 3,
   "id": "a002450f-c694-457c-a00e-16450d6dc5a9",
   "metadata": {},
   "outputs": [],
   "source": [
    "using CSV;\n",
    "using DataFrames;\n",
    "using LinearAlgebra;\n",
    "using Distributions;\n",
    "using Images, FileIO;\n",
    "using RCall;\n",
    "@rlibrary ggplot2\n",
    "@rlibrary ggimage\n",
    "@rlibrary emojifont\n",
    "@rlibrary viridis\n",
    "@rlibrary magick"
   ]
  },
  {
   "cell_type": "code",
   "execution_count": null,
   "id": "05ad8cb2",
   "metadata": {},
   "outputs": [],
   "source": [
    "include(\"../julia/utils.jl\");\n",
    "include(\"../julia/bayes_logreg.jl\");\n",
    "include(\"../julia/optimization.jl\");"
   ]
  },
  {
   "cell_type": "markdown",
   "id": "4d7acaa1",
   "metadata": {},
   "source": [
    "## Single-period"
   ]
  },
  {
   "cell_type": "markdown",
   "id": "29d212d0-b102-4d9e-b629-317cc8867ba6",
   "metadata": {},
   "source": [
    "### Training the classifier\n",
    "\n",
    "We start by training a simple linear classifier: Bayesian Logisitic Regression."
   ]
  },
  {
   "cell_type": "code",
   "execution_count": null,
   "id": "760d45eb-946f-41e1-bbc8-c64d0f95e7b6",
   "metadata": {},
   "outputs": [],
   "source": [
    "df = CSV.read(\"../data/cats_dogs_large.csv\", DataFrame);\n",
    "y = df[:,:y];\n",
    "N = length(y);\n",
    "X = Matrix(df[:,Not(:y)]);\n",
    "model = bayes_logreg(X,y);\n",
    "w = model.μ;"
   ]
  },
  {
   "cell_type": "code",
   "execution_count": null,
   "id": "2c0028e7-6e53-43dd-b96c-a4d9f4744457",
   "metadata": {},
   "outputs": [],
   "source": [
    "step = 1;\n",
    "expand = 20;\n",
    "W = expandgrid((minimum(df.x1)-expand):step:(maximum(df.x1)+expand),(minimum(df.x2)-expand):step:(maximum(df.x2)+expand));\n",
    "N_grid = size(W)[1];"
   ]
  },
  {
   "cell_type": "code",
   "execution_count": null,
   "id": "ef26a5ea-10fa-4465-8193-cbd4d5ebbdef",
   "metadata": {},
   "outputs": [],
   "source": [
    "y_probit = posterior_predictive(model, hcat(ones(N_grid), W));\n",
    "estimates = DataFrame(hcat(y_probit,W), :auto);\n",
    "features = copy(df);\n",
    "transform!(features, :y => (x -> ifelse.(x.==0,\"../www/cat.png\",\"../www/dog.png\"))  => :emoji);"
   ]
  },
  {
   "cell_type": "markdown",
   "id": "18ddd046",
   "metadata": {},
   "source": [
    "The plot below shows how our classifier separate training samples of cats and dogs (toy data). The contour shows the poster predictive distribution."
   ]
  },
  {
   "cell_type": "code",
   "execution_count": null,
   "id": "9a0c9b6e-2a6c-4ea5-bfa4-e839a58714c0",
   "metadata": {},
   "outputs": [],
   "source": [
    "ggplot() + \n",
    "    geom_contour_filled(data=estimates, aes(x = :x2, y = :x3, z = :x1), bins=25, alpha=0.8) +\n",
    "    geom_abline(intercept=1-w[1], slope=-w[2]/w[3]) +\n",
    "    geom_image(data=features, aes(x=:x1, y=:x2, image=:emoji), size=0.1) +\n",
    "    guides(fill=\"none\") +\n",
    "    scale_fill_viridis(option=\"C\",discrete=true) +\n",
    "    scale_x_continuous(expand = R\"c(0, 0)\") + scale_y_continuous(expand = R\"c(0, 0)\") +\n",
    "    labs(x=\"Height\", y=\"Tail\") +\n",
    "    theme_bw() # |>\n",
    "    # p -> ggsave(\"www/predictive.png\", plot = p, width=5, height=5)"
   ]
  },
  {
   "cell_type": "markdown",
   "id": "eecc159a-a903-4b97-b99c-f80886304a1a",
   "metadata": {},
   "source": [
    "### Generating recourse\n",
    "\n",
    "Now we will generate and implement algorithmic recourse for a subset of cats."
   ]
  },
  {
   "cell_type": "code",
   "execution_count": null,
   "id": "4cbdad1a-15d4-412f-8274-25ad3deb00b5",
   "metadata": {},
   "outputs": [],
   "source": [
    "include(\"../julia/gradients.jl\");\n",
    "include(\"../julia/generate_recourse.jl\");"
   ]
  },
  {
   "cell_type": "code",
   "execution_count": null,
   "id": "7f81facf-e7f6-4f26-b52d-5889ee8b9ff3",
   "metadata": {},
   "outputs": [],
   "source": [
    "generators = (wachter = generate_recourse_wachter, schut = generate_recourse_schut);\n",
    "generator_args = (wachter=(λ=0.01,), schut=(T=100,));\n",
    "df_counterfactual = [copy(df) for i in 1:length(generators)];\n",
    "for j in 1:length(generators)\n",
    "    insertcols!(df_counterfactual[j], :type => String(keys(generators)[j]))\n",
    "end"
   ]
  },
  {
   "cell_type": "code",
   "execution_count": null,
   "id": "b6771594-acc2-4087-9ac8-8d5aabebb69d",
   "metadata": {},
   "outputs": [],
   "source": [
    "proportion = 0.2\n",
    "using StatsBase\n",
    "cats = findall(df.y.==0);\n",
    "unhappy_cats = StatsBase.sample(cats,Int(round(proportion * length(cats))),replace=false);\n",
    "X_f = [[df.x1[i], df.x2[i]] for i in unhappy_cats];"
   ]
  },
  {
   "cell_type": "code",
   "execution_count": null,
   "id": "12d1fee1-b859-4f4d-8714-1ebcc463a785",
   "metadata": {},
   "outputs": [],
   "source": [
    "counterfactuals = DataFrame();\n",
    "for i in unhappy_cats\n",
    "    x_f = [df.x1[i], df.x2[i]]\n",
    "    for j in 1:length(generators)\n",
    "        recourse_name = keys(generators)[j]\n",
    "        recourse = generators[j](x_f,gradient,model,1;generator_args[j]...)\n",
    "        y_hat = predict(model, reshape(vcat(1,recourse.x_cf),(1,length(recourse.x_cf)+1)))[1]\n",
    "        # Update large data frame:\n",
    "        df_counterfactual[j].y[i] = y_hat\n",
    "        df_counterfactual[j].x1[i] = recourse.x_cf[1]\n",
    "        df_counterfactual[j].x2[i] = recourse.x_cf[2]\n",
    "        # Append small data frame:\n",
    "        cf = DataFrame(reshape(recourse.x_cf,(1,length(recourse.x_cf))),:auto)\n",
    "        insertcols!(cf, :type => String(recourse_name))\n",
    "        insertcols!(cf, :emoji=> ifelse(y_hat==1,\"../www/dog.png\",\"../www/cat.png\"))\n",
    "        counterfactuals = vcat(counterfactuals, cf)\n",
    "    end\n",
    "end"
   ]
  },
  {
   "cell_type": "code",
   "execution_count": null,
   "id": "917d5486-94ba-4196-8f0a-f77bf296c5cc",
   "metadata": {},
   "outputs": [],
   "source": [
    "ggplot() + \n",
    "    geom_contour_filled(data=estimates, aes(x = :x2, y = :x3, z = :x1), bins=25, alpha=0.8) +\n",
    "    geom_abline(intercept=(1-w[1])/w[3], slope=-w[2]/w[3]) +\n",
    "    geom_image(\n",
    "        data=features[setdiff(1:size(features)[1],unhappy_cats),:], \n",
    "        aes(x=:x1, y=:x2, image=:emoji), \n",
    "        size=0.1, \n",
    "        image_fun=R\"function(img) magick::image_fx(img, expression = '0.5*a', channel = 'alpha')\"\n",
    "    ) +\n",
    "    geom_image(data=counterfactuals, aes(x=:x1, y=:x2, image=:emoji), size=0.1) +\n",
    "    guides(fill=\"none\") +\n",
    "    scale_fill_viridis(option=\"C\",discrete=true) +\n",
    "    scale_x_continuous(expand = R\"c(0, 0)\") + scale_y_continuous(expand = R\"c(0, 0)\") +\n",
    "    labs(x=\"Height\", y=\"Tail\") +\n",
    "    facet_wrap(R\".~type\") +\n",
    "    theme_bw() |>\n",
    "    p -> ggsave(\"www/toy_endogenous_shifts.png\", plot = p, width=8, height=4);\n",
    "load(\"www/toy_endogenous_shifts.png\")"
   ]
  },
  {
   "cell_type": "markdown",
   "id": "6ade5088-9f8d-48c5-95ba-60edca5a6431",
   "metadata": {},
   "source": [
    "### Retraining classifier\n",
    "\n",
    "Finally, we will retrain the classifier (model shift) and plot the resulting new decision boundary and posterior predictive distribution."
   ]
  },
  {
   "cell_type": "code",
   "execution_count": null,
   "id": "577c42a1-d869-42aa-969d-5afafe1d3f9d",
   "metadata": {},
   "outputs": [],
   "source": [
    "estimates = DataFrame()\n",
    "coefficients = DataFrame()\n",
    "for j in 1:length(df_counterfactual)\n",
    "    df_cf = df_counterfactual[j]\n",
    "    recourse_name = String(keys(generators)[j])\n",
    "    y = df_cf[:,:y];\n",
    "    X = Matrix(df_cf[:,[:x1,:x2]]);\n",
    "    model = bayes_logreg(X,y);\n",
    "    coefficients_ = DataFrame(reshape(model.μ,(1,length(model.μ))), \"w\" .* string.(1:length(model.μ)))\n",
    "    insertcols!(coefficients_, :const => 1-model.μ[1]/model.μ[3])\n",
    "    insertcols!(coefficients_, :slope => -model.μ[2]/model.μ[3])\n",
    "    insertcols!(coefficients_, :type => recourse_name)\n",
    "    coefficients = vcat(coefficients,coefficients_);\n",
    "    # Predictive posterior:\n",
    "    y_probit = posterior_predictive(model, hcat(ones(N_grid), W));\n",
    "    estimates_ = DataFrame(hcat(y_probit,W), :auto);\n",
    "    insertcols!(estimates_, :type => recourse_name)\n",
    "    estimates = vcat(estimates, estimates_)\n",
    "end"
   ]
  },
  {
   "cell_type": "code",
   "execution_count": null,
   "id": "25b53646-19f9-48a3-9f44-f8f4f10d2d43",
   "metadata": {},
   "outputs": [],
   "source": [
    "features = reduce(vcat, df_counterfactual);\n",
    "transform!(features, :y => (x -> ifelse.(x.==0,\"../www/cat.png\",\"../www/dog.png\"))  => :emoji);"
   ]
  },
  {
   "cell_type": "code",
   "execution_count": null,
   "id": "1a46b81b-127a-49e3-85e2-01a5c2195d39",
   "metadata": {},
   "outputs": [],
   "source": [
    "ggplot() + \n",
    "    geom_contour_filled(data=estimates, aes(x = :x2, y = :x3, z = :x1), bins=25, alpha=0.8) +\n",
    "    geom_abline(data=coefficients, aes(intercept=:const, slope=:slope)) +\n",
    "    geom_image(data=features, aes(x=:x1, y=:x2, image=:emoji), size=0.1) +\n",
    "    guides(fill=\"none\") +\n",
    "    scale_fill_viridis(option=\"C\",discrete=true) +\n",
    "    scale_x_continuous(expand = R\"c(0, 0)\") + scale_y_continuous(expand = R\"c(0, 0)\") +\n",
    "    labs(x=\"Height\", y=\"Tail\") +\n",
    "    facet_wrap(R\".~type\") +\n",
    "    theme_bw() |>\n",
    "    p -> ggsave(\"www/toy_post_shift.png\", plot = p, width=8, height=4);\n",
    "load(\"www/toy_post_shift.png\")"
   ]
  },
  {
   "cell_type": "markdown",
   "id": "69dca07a-ea5c-4ec4-8780-fe46c7332fb5",
   "metadata": {},
   "source": [
    "### Single-period with holdout"
   ]
  },
  {
   "cell_type": "markdown",
   "id": "c4548318-5cd3-4d20-a39d-66ee45eb332f",
   "metadata": {},
   "source": [
    "The experimental setup in this section is adapted from Upadhyay et al. (2021):\n",
    "\n",
    "1. Train classifier ($\\mathcal{M}_1$) on 4 folds of data $\\mathcal{D}$ (training data).\n",
    "2. Provide and implement recourse to $\\mu$% of the training data. \n",
    "3. Retrain the classifier ($\\mathcal{M}_2$) on training data with counterfactual labels.\n",
    "4. Provide recourse to 5th fold (holdout data).\n",
    "5. Check validity of recourse provided in 2.\n",
    "\n",
    "This procedure is repeated for $K$ folds."
   ]
  },
  {
   "cell_type": "code",
   "execution_count": null,
   "id": "a64264b0",
   "metadata": {},
   "outputs": [],
   "source": [
    "include(\"../julia/experiments.jl\");"
   ]
  },
  {
   "cell_type": "code",
   "execution_count": null,
   "id": "7946fe00-1e42-460b-8139-d69a08ca6ea0",
   "metadata": {},
   "outputs": [],
   "source": [
    "target = 1\n",
    "n_rounds = 10\n",
    "run_experiment(X,y,bayes_logreg,target,generators,generator_args,experiment_holdout)"
   ]
  },
  {
   "cell_type": "markdown",
   "id": "d05ef8e9-3610-4ced-a31c-dd29aaff46ec",
   "metadata": {},
   "source": [
    "## Dynamic"
   ]
  },
  {
   "cell_type": "code",
   "execution_count": null,
   "id": "232c2d84-de59-443a-a4d9-c4f26d4f383b",
   "metadata": {},
   "outputs": [],
   "source": [
    "props = [0.01,0.05,0.1,0.25]\n",
    "results = DataFrame()\n",
    "for prop in props\n",
    "    results_prop = run_experiment(X,y,bayes_logreg,target,generators,generator_args,experiment_dynamic)\n",
    "    insertcols!(results_prop, :prop => prop)\n",
    "    results = vcat(results, results_prop)\n",
    "end"
   ]
  },
  {
   "cell_type": "code",
   "execution_count": null,
   "id": "93a3981b-2837-45a2-8f8f-d5030c1841d5",
   "metadata": {},
   "outputs": [],
   "source": [
    "dt_plot = groupby(results, [:period, :generator, :prop]) |>\n",
    "    gdf -> combine(gdf, :validity .=> [mean, std] .=> [:mean, :std])\n",
    "dt_plot[!,:ymin] = dt_plot[!,:mean] - dt_plot[!,:std]\n",
    "dt_plot[!,:ymax] = dt_plot[!,:mean] + dt_plot[!,:std]\n",
    "ggplot(data=dt_plot, aes(x=:period, y=:mean, colour=:generator)) +\n",
    "    geom_line() + \n",
    "    geom_errorbar(aes(ymin=:ymin, ymax=:ymax), width=.2) + \n",
    "    geom_point() +\n",
    "    facet_wrap(R\".~prop\") +\n",
    "    theme_bw() |>\n",
    "    p -> ggsave(\"www/toy_dynamic_validity.png\", plot = p);\n",
    "load(\"www/toy_dynamic_validity.png\")"
   ]
  },
  {
   "cell_type": "code",
   "execution_count": null,
   "id": "c8607db8-384b-45a7-9e3a-6ed913ee1d17",
   "metadata": {},
   "outputs": [],
   "source": [
    "dt_plot = groupby(results, [:period, :generator, :prop]) |>\n",
    "    gdf -> combine(gdf, :cost .=> [mean, std] .=> [:mean, :std])\n",
    "dt_plot[!,:ymin] = dt_plot[!,:mean] - dt_plot[!,:std]\n",
    "dt_plot[!,:ymax] = dt_plot[!,:mean] + dt_plot[!,:std]\n",
    "ggplot(data=dt_plot, aes(x=:period, y=:mean, colour=:generator)) +\n",
    "    geom_line() + \n",
    "    geom_errorbar(aes(ymin=:ymin, ymax=:ymax), width=.2) + \n",
    "    geom_point() +\n",
    "    facet_wrap(R\".~prop\") +\n",
    "    theme_bw() |>\n",
    "    p -> ggsave(\"www/toy_dynamic_cost.png\", plot = p);\n",
    "load(\"www/toy_dynamic_cost.png\")"
   ]
  },
  {
   "cell_type": "markdown",
   "id": "436acc07-40de-4b3a-aa50-296244bbfa34",
   "metadata": {
    "tags": []
   },
   "source": [
    "#### Wachter et al."
   ]
  },
  {
   "cell_type": "code",
   "execution_count": null,
   "id": "0ade0fb7-2af5-4e0d-97c3-ad52ace60c23",
   "metadata": {},
   "outputs": [],
   "source": [
    "y = df[:,:y];\n",
    "X = Matrix(df[:,Not(:y)]);\n",
    "evaluation, recourse_path, clf_path = experiment_dynamic(X,y,bayes_logreg,target,generators[1],generator_args[1]);"
   ]
  },
  {
   "cell_type": "code",
   "execution_count": null,
   "id": "0af07438-a191-4dbb-b9d6-03a3b87d15f7",
   "metadata": {},
   "outputs": [],
   "source": [
    "# Posterior predictive:\n",
    "posterior_contour = DataFrame()\n",
    "for i in 1:length(clf_path)\n",
    "    model = clf_path[i]\n",
    "    y_probit = posterior_predictive(model, hcat(ones(N_grid), W));\n",
    "    posterior_contour_ = DataFrame(hcat(y_probit,W), :auto);\n",
    "    insertcols!(posterior_contour_, :period => i)\n",
    "    posterior_contour = vcat(posterior_contour, posterior_contour_)\n",
    "end\n",
    "\n",
    "# Decision boundary:\n",
    "decision_boundary = DataFrame()\n",
    "for i in 1:length(clf_path)\n",
    "    model = clf_path[i]\n",
    "    decision_boundary_ = DataFrame(intercept=(1-model.μ[1])/model.μ[3], slope=-model.μ[2]/model.μ[3], period=i)\n",
    "    decision_boundary = vcat(decision_boundary, decision_boundary_)\n",
    "end\n",
    "\n",
    "# Emoji\n",
    "transform!(recourse_path, :y => (x -> ifelse.(x.==0,\"../www/cat.png\",\"../www/dog.png\"))  => :emoji);"
   ]
  },
  {
   "cell_type": "code",
   "execution_count": null,
   "id": "d632ead8-2ec6-4753-b00c-f58f22084455",
   "metadata": {},
   "outputs": [],
   "source": [
    "ggplot() + \n",
    "    geom_contour_filled(data=posterior_contour, aes(x = :x2, y = :x3, z = :x1), bins=25, alpha=0.8) +\n",
    "    geom_abline(data=decision_boundary, aes(intercept=:intercept, slope=:slope)) +\n",
    "    geom_image(data=recourse_path, aes(x=:x1, y=:x2, image=:emoji), size=0.1) +\n",
    "    guides(fill=\"none\") +\n",
    "    scale_fill_viridis(option=\"C\",discrete=true) +\n",
    "    scale_x_continuous(expand = R\"c(0, 0)\") + scale_y_continuous(expand = R\"c(0, 0)\") +\n",
    "    labs(x=\"Height\", y=\"Tail\") +\n",
    "    facet_wrap(R\".~period\",ncol=round(n_rounds/2)) +\n",
    "    theme_bw() |>\n",
    "    p -> ggsave(\"www/dynamic_wachter.png\", plot = p, width=8, height=2/(n_rounds/2)*8);"
   ]
  },
  {
   "cell_type": "code",
   "execution_count": null,
   "id": "8178ce4b-c267-4da9-bbe7-aa9ec46c0f12",
   "metadata": {},
   "outputs": [],
   "source": [
    "load(\"www/dynamic_wachter.png\")"
   ]
  },
  {
   "cell_type": "markdown",
   "id": "269f58a0-5ec3-4f04-9397-efbd480cad49",
   "metadata": {},
   "source": [
    "#### Schut et al."
   ]
  },
  {
   "cell_type": "code",
   "execution_count": null,
   "id": "07f5515d-7080-49eb-bdbc-a6c8d76e51d5",
   "metadata": {},
   "outputs": [],
   "source": [
    "y = df[:,:y];\n",
    "X = Matrix(df[:,Not(:y)]);\n",
    "evaluation, recourse_path, clf_path = experiment_dynamic(X,y,bayes_logreg,target,generators[2],generator_args[2]);"
   ]
  },
  {
   "cell_type": "code",
   "execution_count": null,
   "id": "66669962-c7de-468d-9a04-bd8c979eff81",
   "metadata": {},
   "outputs": [],
   "source": [
    "# Posterior predictive:\n",
    "posterior_contour = DataFrame()\n",
    "for i in 1:length(clf_path)\n",
    "    model = clf_path[i]\n",
    "    y_probit = posterior_predictive(model, hcat(ones(N_grid), W));\n",
    "    posterior_contour_ = DataFrame(hcat(y_probit,W), :auto);\n",
    "    insertcols!(posterior_contour_, :period => i)\n",
    "    posterior_contour = vcat(posterior_contour, posterior_contour_)\n",
    "end\n",
    "\n",
    "# Decision boundary:\n",
    "decision_boundary = DataFrame()\n",
    "for i in 1:length(clf_path)\n",
    "    model = clf_path[i]\n",
    "    decision_boundary_ = DataFrame(intercept=(1-model.μ[1])/model.μ[3], slope=-model.μ[2]/model.μ[3], period=i)\n",
    "    decision_boundary = vcat(decision_boundary, decision_boundary_)\n",
    "end\n",
    "\n",
    "# Emoji\n",
    "transform!(recourse_path, :y => (x -> ifelse.(x.==0,\"../www/cat.png\",\"../www/dog.png\"))  => :emoji);"
   ]
  },
  {
   "cell_type": "code",
   "execution_count": null,
   "id": "34d558a7-a548-4775-938f-667238ca6f58",
   "metadata": {},
   "outputs": [],
   "source": [
    "ggplot() + \n",
    "    geom_contour_filled(data=posterior_contour, aes(x = :x2, y = :x3, z = :x1), bins=25, alpha=0.8) +\n",
    "    geom_abline(data=decision_boundary, aes(intercept=:intercept, slope=:slope)) +\n",
    "    geom_image(data=recourse_path, aes(x=:x1, y=:x2, image=:emoji), size=0.1) +\n",
    "    guides(fill=\"none\") +\n",
    "    scale_fill_viridis(option=\"C\",discrete=true) +\n",
    "    scale_x_continuous(expand = R\"c(0, 0)\") + scale_y_continuous(expand = R\"c(0, 0)\") +\n",
    "    labs(x=\"Height\", y=\"Tail\") +\n",
    "    facet_wrap(R\".~period\",ncol=round(n_rounds/2)) +\n",
    "    theme_bw() |>\n",
    "    p -> ggsave(\"www/dynamic_schut.png\", plot = p, width=8, height=2/(n_rounds/2)*8);"
   ]
  },
  {
   "cell_type": "code",
   "execution_count": null,
   "id": "0f8fc02a-1084-4116-9192-0c76ef81a9b9",
   "metadata": {},
   "outputs": [],
   "source": [
    "load(\"www/dynamic_schut.png\")"
   ]
  },
  {
   "cell_type": "markdown",
   "id": "e2674a44",
   "metadata": {},
   "source": [
    "## Bayesian Neural Network"
   ]
  },
  {
   "cell_type": "markdown",
   "id": "5bc7b789",
   "metadata": {},
   "source": [
    "Following the tutorial on Turing.jl: https://turing.ml/dev/tutorials/03-bayesian-neural-network/"
   ]
  },
  {
   "cell_type": "code",
   "execution_count": null,
   "id": "62ee8321",
   "metadata": {},
   "outputs": [],
   "source": [
    "include(\"../julia/bnn.jl\")"
   ]
  },
  {
   "cell_type": "code",
   "execution_count": null,
   "id": "412f61cc",
   "metadata": {},
   "outputs": [],
   "source": [
    "# Number of points to generate.\n",
    "N = 80\n",
    "M = round(Int, N / 4)\n",
    "Random.seed!(1234)\n",
    "\n",
    "# Generate artificial data.\n",
    "x1s = rand(M) * 4.5; x2s = rand(M) * 4.5; \n",
    "xt1s = Array([[x1s[i] + 0.5; x2s[i] + 0.5] for i = 1:M])\n",
    "x1s = rand(M) * 4.5; x2s = rand(M) * 4.5; \n",
    "append!(xt1s, Array([[x1s[i] - 5; x2s[i] - 5] for i = 1:M]))\n",
    "\n",
    "x1s = rand(M) * 4.5; x2s = rand(M) * 4.5; \n",
    "xt0s = Array([[x1s[i] + 0.5; x2s[i] - 5] for i = 1:M])\n",
    "x1s = rand(M) * 4.5; x2s = rand(M) * 4.5; \n",
    "append!(xt0s, Array([[x1s[i] - 5; x2s[i] + 0.5] for i = 1:M]))\n",
    "\n",
    "# Store all the data for later.\n",
    "xs = [xt1s; xt0s]\n",
    "ts = [ones(2*M); zeros(2*M)]\n",
    "\n",
    "# Write to hard drive.\n",
    "df = DataFrame(hcat(ts, transpose(hcat(xs...))), [:y, :x1, :x2])\n",
    "CSV.write(\"../data/toy_nonlin.csv\", df)"
   ]
  },
  {
   "cell_type": "code",
   "execution_count": null,
   "id": "ca25a82e",
   "metadata": {},
   "outputs": [],
   "source": [
    "df = CSV.read(\"../data/toy_nonlin.csv\", DataFrame);\n",
    "p = ggplot(data=df, aes(x=:x1, y=:x2, colour=R\"as.factor($df$y)\")) +\n",
    "    geom_point()\n",
    "p"
   ]
  },
  {
   "cell_type": "code",
   "execution_count": null,
   "id": "647a543a",
   "metadata": {},
   "outputs": [],
   "source": [
    "y = df[:,:y];\n",
    "X = Matrix(df[:,Not(:y)]);"
   ]
  },
  {
   "cell_type": "markdown",
   "id": "8be89b56",
   "metadata": {},
   "source": [
    "### Fit BNN"
   ]
  },
  {
   "cell_type": "markdown",
   "id": "488f7b78",
   "metadata": {},
   "source": [
    "Prepare the model:"
   ]
  },
  {
   "cell_type": "code",
   "execution_count": null,
   "id": "0dfad4b6",
   "metadata": {},
   "outputs": [],
   "source": [
    "# Specify the network architecture.\n",
    "network_shape = [\n",
    "    (3,2, :tanh),\n",
    "    (2,3, :tanh), \n",
    "    (1,2, :σ)\n",
    "]\n",
    "\n",
    "# Regularization, parameter variance, and total number of\n",
    "# parameters.\n",
    "alpha = 0.09\n",
    "sig = sqrt(1.0 / alpha)\n",
    "num_params = sum([i * o + i for (i, o, _) in network_shape])\n",
    "\n",
    "bnn_instance = bnn(transpose(X), y, network_shape, num_params);"
   ]
  },
  {
   "cell_type": "markdown",
   "id": "76f6d010",
   "metadata": {},
   "source": [
    "Do inference through MC sampling (this step takes a moment):"
   ]
  },
  {
   "cell_type": "code",
   "execution_count": null,
   "id": "11b7f53c",
   "metadata": {},
   "outputs": [],
   "source": [
    "chain = inference(bnn_instance);"
   ]
  },
  {
   "cell_type": "code",
   "execution_count": null,
   "id": "5f12fecf",
   "metadata": {},
   "outputs": [],
   "source": [
    "step = 1;\n",
    "expand = 1;\n",
    "W = expandgrid((minimum(df.x1)-expand):step:(maximum(df.x1)+expand),(minimum(df.x2)-expand):step:(maximum(df.x2)+expand));\n",
    "N_grid = size(W)[1];\n",
    "y_probit = posterior_predictive(model, hcat(ones(N_grid), W));\n",
    "\n",
    "nn_predict()"
   ]
  }
 ],
 "metadata": {
  "kernelspec": {
   "display_name": "Julia 1.7.0",
   "language": "julia",
   "name": "julia-1.7"
  },
  "language_info": {
   "file_extension": ".jl",
   "mimetype": "application/julia",
   "name": "julia",
   "version": "1.7.0"
  }
 },
 "nbformat": 4,
 "nbformat_minor": 5
}
