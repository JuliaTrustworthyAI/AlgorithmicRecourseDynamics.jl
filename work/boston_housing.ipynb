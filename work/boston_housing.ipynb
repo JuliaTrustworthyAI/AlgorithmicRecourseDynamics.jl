{
 "cells": [
  {
   "cell_type": "markdown",
   "metadata": {},
   "source": [
    "# Boston Housing"
   ]
  },
  {
   "cell_type": "code",
   "execution_count": 1,
   "metadata": {},
   "outputs": [
    {
     "data": {
      "text/plain": [
       "\"output/boston_housing_ensemble\""
      ]
     },
     "metadata": {},
     "output_type": "display_data"
    }
   ],
   "source": [
    "include(\"../src/load.jl\")\n",
    "using AlgorithmicRecourse, MLDatasets, Flux\n",
    "using Plots, PlotThemes\n",
    "theme(:juno)\n",
    "using Logging\n",
    "disable_logging(Logging.Info)\n",
    "output_folder = \"output/boston_housing_ensemble\""
   ]
  },
  {
   "cell_type": "markdown",
   "metadata": {},
   "source": [
    "## Training the classifier"
   ]
  },
  {
   "cell_type": "code",
   "execution_count": 2,
   "metadata": {},
   "outputs": [],
   "source": [
    "using MLDatasets, Statistics\n",
    "X = BostonHousing.features()\n",
    "y = BostonHousing.targets()\n",
    "y = Float64.(y .>= median(y)); # binary target"
   ]
  },
  {
   "cell_type": "markdown",
   "metadata": {},
   "source": [
    "To start off we will just train a single neural network for the binary classification task."
   ]
  },
  {
   "cell_type": "code",
   "execution_count": 3,
   "metadata": {},
   "outputs": [
    {
     "data": {
      "text/plain": [
       "loss (generic function with 1 method)"
      ]
     },
     "metadata": {},
     "output_type": "display_data"
    }
   ],
   "source": [
    "# Prepare data and model:\n",
    "using Random\n",
    "Random.seed!(1234)\n",
    "using StatsBase\n",
    "dt = fit(ZScoreTransform, X, dims=2)\n",
    "StatsBase.transform!(dt, X)\n",
    "xs = Flux.unstack(X,2)\n",
    "data = zip(xs,y)\n",
    "nn = Models.build_model(input_dim=size(X)[1], n_hidden=100)\n",
    "loss(x, y) = Flux.Losses.logitbinarycrossentropy(nn(x), y)"
   ]
  },
  {
   "cell_type": "markdown",
   "metadata": {},
   "source": [
    "The model achieves decent training accuracy"
   ]
  },
  {
   "cell_type": "code",
   "execution_count": 4,
   "metadata": {},
   "outputs": [],
   "source": [
    "run = false\n",
    "if run\n",
    "  # Train model:\n",
    "  using Flux.Optimise: update!, ADAM\n",
    "  using Statistics, StatsBase\n",
    "  opt = ADAM()\n",
    "  epochs = 100\n",
    "  avg_loss(data) = mean(map(d -> loss(d[1],d[2]), data))\n",
    "  accuracy(data) = sum(map(d ->round.(Flux.σ.(nn(d[1]))) .== d[2], data))[1]/length(data)\n",
    "\n",
    "  using Plots\n",
    "  anim = Animation()\n",
    "  avg_l = [avg_loss(data)]\n",
    "  p1 = scatter( ylim=(0,avg_l[1]), xlim=(0,epochs), legend=false, xlab=\"Epoch\", title=\"Average loss\")\n",
    "  acc = [accuracy(data)]\n",
    "  p2 = scatter( ylim=(0.5,1), xlim=(0,epochs), legend=false, xlab=\"Epoch\", title=\"Accuracy\")\n",
    "\n",
    "  for epoch = 1:epochs\n",
    "    for d in data\n",
    "      gs = gradient(params(nn)) do\n",
    "        l = loss(d...)\n",
    "      end\n",
    "      update!(opt, params(nn), gs)\n",
    "    end\n",
    "    avg_l = vcat(avg_l,avg_loss(data))\n",
    "    plot!(p1, [0:epoch], avg_l, color=1)\n",
    "    scatter!(p1, [0:epoch], avg_l, color=1)\n",
    "    acc = vcat(acc,accuracy(data))\n",
    "    plot!(p2, [0:epoch], acc, color=1)\n",
    "    scatter!(p2, [0:epoch], acc, color=1)\n",
    "    plt=plot(p1,p2, size=(600,300))\n",
    "    frame(anim, plt)\n",
    "  end\n",
    "\n",
    "  gif(anim, \"www/boston_housing_single_nn.gif\", fps=10);\n",
    "end"
   ]
  },
  {
   "cell_type": "markdown",
   "metadata": {},
   "source": [
    "![](www/boston_housing_single_nn.gif)"
   ]
  },
  {
   "cell_type": "markdown",
   "metadata": {},
   "source": [
    "Next we will build and train a deep ensemble."
   ]
  },
  {
   "cell_type": "code",
   "execution_count": 5,
   "metadata": {},
   "outputs": [],
   "source": [
    "opt = ADAM()\n",
    "loss_type = :logitbinarycrossentropy\n",
    "run = false\n",
    "if run\n",
    "    K = 50\n",
    "    𝓜 = Models.build_ensemble(K,kw=(input_dim=size(X)[1], n_hidden=100));\n",
    "    𝓜, anim = Models.forward(𝓜, data, opt, n_epochs=30, plot_every=10, loss_type=loss_type); # fit the ensemble\n",
    "    Models.save_ensemble(𝓜, root=output_folder) # save to disk\n",
    "    gif(anim, \"www/boston_housing_ensemble_loss.gif\", fps=25);\n",
    "end"
   ]
  },
  {
   "cell_type": "markdown",
   "metadata": {},
   "source": [
    "![](www/boston_housing_ensemble_loss.gif)"
   ]
  },
  {
   "cell_type": "markdown",
   "metadata": {},
   "source": [
    "Testing a single run:"
   ]
  },
  {
   "cell_type": "code",
   "execution_count": 6,
   "metadata": {},
   "outputs": [],
   "source": [
    "# 𝓜 = Models.load_ensemble(root=output_folder)\n",
    "# 𝑴 = Models.FittedEnsemble(𝓜,opt,loss_type);\n",
    "# using Random\n",
    "# Random.seed!(1234)\n",
    "# x̅ = X[:,(y.==0)'][:,rand(1:length((y.==0)'))] # select individual sample\n",
    "# x̅ = reshape(x̅, (length(x̅),1))\n",
    "# γ = 0.75\n",
    "# target=1.0\n",
    "# T = 1000\n",
    "# n = round(size(X)[2])\n",
    "# δ = 0.1\n",
    "# generator = GreedyGenerator(δ,n,:logitbinarycrossentropy,nothing)\n",
    "# recourse = generate_recourse(generator, x̅, 𝑴, target, γ, T=T); # generate recourse"
   ]
  },
  {
   "cell_type": "markdown",
   "metadata": {},
   "source": [
    "## Experiment"
   ]
  },
  {
   "cell_type": "markdown",
   "metadata": {},
   "source": [
    "Prepare ensemble for use with AlgorithmicRecourse.jl:"
   ]
  },
  {
   "cell_type": "code",
   "execution_count": 7,
   "metadata": {},
   "outputs": [
    {
     "data": {
      "text/plain": [
       "GreedyGenerator(0.1, 506, :logitbinarycrossentropy, nothing)"
      ]
     },
     "metadata": {},
     "output_type": "display_data"
    }
   ],
   "source": [
    "𝓜 = Models.load_ensemble(root=output_folder)\n",
    "𝑴 = Models.FittedEnsemble(𝓜, opt, loss_type);\n",
    "target=1.0\n",
    "T = 1000\n",
    "n = round(size(X)[2])\n",
    "δ = 0.1\n",
    "generator = GreedyGenerator(δ,n,:logitbinarycrossentropy,nothing)"
   ]
  },
  {
   "cell_type": "markdown",
   "metadata": {},
   "source": [
    "Prepare grid of variables for experiment:"
   ]
  },
  {
   "cell_type": "code",
   "execution_count": 8,
   "metadata": {},
   "outputs": [],
   "source": [
    "# Variables:\n",
    "μ = [0.01,0.05,0.1]\n",
    "γ = [0.55,0.75,0.9]\n",
    "grid_ = Experiments.GridVariables(μ, γ)\n",
    "n_rounds = 10\n",
    "# Experiment:\n",
    "experiment = Experiments.Experiment(X,y,𝑴,target,grid_,n_rounds);"
   ]
  },
  {
   "cell_type": "code",
   "execution_count": 62,
   "metadata": {},
   "outputs": [
    {
     "data": {
      "text/plain": [
       "\"output/boston_housing_outcome_greedy.csv\""
      ]
     },
     "metadata": {},
     "output_type": "display_data"
    }
   ],
   "source": [
    "outcome = Experiments.run_experiment(experiment, generator, 5, T=T)\n",
    "using DataFrames, CSV\n",
    "CSV.write(\"output/boston_housing_outcome_greedy.csv\", DataFrame(outcome))"
   ]
  },
  {
   "cell_type": "code",
   "execution_count": 9,
   "metadata": {},
   "outputs": [
    {
     "ename": "UndefVarError",
     "evalue": "UndefVarError: CSV not defined",
     "output_type": "error",
     "traceback": [
      "UndefVarError: CSV not defined\n",
      "\n",
      "Stacktrace:\n",
      "  [1] top-level scope\n",
      "    @ ~/OneDrive - Delft University of Technology/git/recourse/work/boston_housing.ipynb:3\n",
      "  [2] eval\n",
      "    @ ./boot.jl:360 [inlined]\n",
      "  [3] include_string(mapexpr::typeof(REPL.softscope), mod::Module, code::String, filename::String)\n",
      "    @ Base ./loading.jl:1116\n",
      "  [4] #invokelatest#2\n",
      "    @ ./essentials.jl:708 [inlined]\n",
      "  [5] invokelatest\n",
      "    @ ./essentials.jl:706 [inlined]\n",
      "  [6] (::VSCodeServer.var\"#146#147\"{VSCodeServer.NotebookRunCellArguments, String})()\n",
      "    @ VSCodeServer ~/.vscode/extensions/julialang.language-julia-1.5.10/scripts/packages/VSCodeServer/src/serve_notebook.jl:18\n",
      "  [7] withpath(f::VSCodeServer.var\"#146#147\"{VSCodeServer.NotebookRunCellArguments, String}, path::String)\n",
      "    @ VSCodeServer ~/.vscode/extensions/julialang.language-julia-1.5.10/scripts/packages/VSCodeServer/src/repl.jl:185\n",
      "  [8] notebook_runcell_request(conn::VSCodeServer.JSONRPC.JSONRPCEndpoint{Base.PipeEndpoint, Base.PipeEndpoint}, params::VSCodeServer.NotebookRunCellArguments)\n",
      "    @ VSCodeServer ~/.vscode/extensions/julialang.language-julia-1.5.10/scripts/packages/VSCodeServer/src/serve_notebook.jl:14\n",
      "  [9] dispatch_msg(x::VSCodeServer.JSONRPC.JSONRPCEndpoint{Base.PipeEndpoint, Base.PipeEndpoint}, dispatcher::VSCodeServer.JSONRPC.MsgDispatcher, msg::Dict{String, Any})\n",
      "    @ VSCodeServer.JSONRPC ~/.vscode/extensions/julialang.language-julia-1.5.10/scripts/packages/JSONRPC/src/typed.jl:67\n",
      " [10] serve_notebook(pipename::String; crashreporting_pipename::String)\n",
      "    @ VSCodeServer ~/.vscode/extensions/julialang.language-julia-1.5.10/scripts/packages/VSCodeServer/src/serve_notebook.jl:94\n",
      " [11] top-level scope\n",
      "    @ ~/.vscode/extensions/julialang.language-julia-1.5.10/scripts/notebook/notebook.jl:12\n",
      " [12] include(mod::Module, _path::String)\n",
      "    @ Base ./Base.jl:384\n",
      " [13] exec_options(opts::Base.JLOptions)\n",
      "    @ Base ./client.jl:285\n",
      " [14] _start()\n",
      "    @ Base ./client.jl:485"
     ]
    }
   ],
   "source": [
    "generator = GenericGenerator(0.1,0.1,1e-5,:logitbinarycrossentropy,nothing)\n",
    "outcome = Experiments.run_experiment(experiment, generator, 1, T=T)\n",
    "CSV.write(\"output/boston_housing_outcome_generic.csv\", DataFrame(outcome))"
   ]
  }
 ],
 "metadata": {
  "kernelspec": {
   "display_name": "Julia 1.6.5",
   "language": "julia",
   "name": "julia-1.6"
  },
  "language_info": {
   "file_extension": ".jl",
   "mimetype": "application/julia",
   "name": "julia",
   "version": "1.6.5"
  },
  "orig_nbformat": 4
 },
 "nbformat": 4,
 "nbformat_minor": 2
}
