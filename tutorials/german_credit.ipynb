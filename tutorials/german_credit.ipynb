{
 "cells": [
  {
   "cell_type": "markdown",
   "id": "c1c884f6-5f0a-45ae-bf65-beb9204f93a0",
   "metadata": {},
   "source": [
    "## German credit data"
   ]
  },
  {
   "cell_type": "code",
   "execution_count": null,
   "id": "6cd377f2-98ef-4ca0-a24a-e1789f4b3cc5",
   "metadata": {},
   "outputs": [],
   "source": [
    "using CSV;\n",
    "using DataFrames;\n",
    "using LinearAlgebra;\n",
    "using Distributions;\n",
    "include(\"../julia/utils.jl\");\n",
    "include(\"../julia/bayes_logreg.jl\");\n",
    "include(\"../julia/optimization.jl\");\n",
    "include(\"../julia/gradients.jl\");\n",
    "include(\"../julia/generate_recourse.jl\");\n",
    "include(\"../julia/experiments.jl\")"
   ]
  },
  {
   "cell_type": "code",
   "execution_count": null,
   "metadata": {},
   "outputs": [],
   "source": [
    "df = CSV.read(\"../data/credit.csv\", DataFrame);\n",
    "df[!,:] = convert.(Float64, df[!,:]); # convert to floats"
   ]
  },
  {
   "cell_type": "code",
   "execution_count": null,
   "id": "17277388-26b5-4b27-adeb-24a5fc529bf1",
   "metadata": {},
   "outputs": [],
   "source": [
    "y = df[:,:y];\n",
    "N = length(y);\n",
    "X = Matrix(df[:,Not(:y)]);\n",
    "model = bayes_logreg(X,y);\n",
    "w = model.μ;"
   ]
  },
  {
   "cell_type": "code",
   "execution_count": null,
   "id": "2d097a70-7ad2-4679-98f9-0459d82fa49d",
   "metadata": {},
   "outputs": [],
   "source": [
    "using EvalMetrics\n",
    "using Plots\n",
    "y_hat = predict(model,X)\n",
    "rocplot(y,y_hat)"
   ]
  },
  {
   "cell_type": "code",
   "execution_count": null,
   "id": "6523362c-2ba2-41b0-9509-d8d6f994d06b",
   "metadata": {},
   "outputs": [],
   "source": [
    "generators = (wachter = generate_recourse_wachter, schut = generate_recourse_schut);\n",
    "generator_args = (wachter=(λ=0.01,), schut=(T=1000,δ=0.05));\n",
    "target = 1;"
   ]
  },
  {
   "cell_type": "code",
   "execution_count": null,
   "id": "cb8f593b-1d7a-4da9-95a0-4a1bb5e1a833",
   "metadata": {},
   "outputs": [],
   "source": [
    "props = [0.01,0.05,0.1,0.25]\n",
    "results = DataFrame()\n",
    "for prop in props\n",
    "    results_prop = run_experiment(X,y,bayes_logreg,target,generators,generator_args,experiment_dynamic)\n",
    "    insertcols!(results_prop, :prop => prop)\n",
    "    results = vcat(results, results_prop)\n",
    "end"
   ]
  },
  {
   "cell_type": "markdown",
   "id": "476034a0-93c8-482d-9d02-68795afb4592",
   "metadata": {},
   "source": [
    "Possible that these results are driven by the following fact:\n",
    "\n",
    "- classifier is biased towards target class (try random over/undersampling)"
   ]
  },
  {
   "cell_type": "code",
   "execution_count": null,
   "id": "c15a39a6-533f-4824-9c10-0f51eda04755",
   "metadata": {},
   "outputs": [],
   "source": [
    "dt_plot = groupby(results, [:period, :generator, :prop]) |>\n",
    "    gdf -> combine(gdf, :validity .=> [mean, std] .=> [:mean, :std])\n",
    "dt_plot[!,:ymin] = dt_plot[!,:mean] - dt_plot[!,:std]\n",
    "dt_plot[!,:ymax] = dt_plot[!,:mean] + dt_plot[!,:std]\n",
    "ggplot(data=dt_plot, aes(x=:period, y=:mean, colour=:generator)) +\n",
    "    geom_line() + \n",
    "    geom_errorbar(aes(ymin=:ymin, ymax=:ymax), width=.2) + \n",
    "    geom_point() +\n",
    "    facet_wrap(R\".~prop\") +\n",
    "    theme_bw() |>\n",
    "    p -> ggsave(\"www/german_dynamic_validity.png\", plot = p);\n",
    "load(\"www/german_dynamic_validity.png\")"
   ]
  },
  {
   "cell_type": "markdown",
   "id": "d54058e9-4578-4374-9210-87a73b53d33e",
   "metadata": {},
   "source": [
    "Interesting to see that there are some clear trends in the cost of recourse over time:\n",
    "\n",
    "- what could be the reason for these dynamics?"
   ]
  },
  {
   "cell_type": "code",
   "execution_count": null,
   "id": "5262b704-5c9f-42d4-98d4-4e5ba7749a69",
   "metadata": {},
   "outputs": [],
   "source": [
    "dt_plot = groupby(results, [:period, :generator, :prop]) |>\n",
    "    gdf -> combine(gdf, :cost .=> [mean, std] .=> [:mean, :std])\n",
    "dt_plot[!,:ymin] = dt_plot[!,:mean] - dt_plot[!,:std]\n",
    "dt_plot[!,:ymax] = dt_plot[!,:mean] + dt_plot[!,:std]\n",
    "ggplot(data=dt_plot, aes(x=:period, y=:mean, colour=:generator)) +\n",
    "    geom_line() + \n",
    "    geom_errorbar(aes(ymin=:ymin, ymax=:ymax), width=.2) + \n",
    "    geom_point() +\n",
    "    facet_wrap(R\".~prop\") +\n",
    "    theme_bw() |>\n",
    "    p -> ggsave(\"www/german_dynamic_cost.png\", plot = p);\n",
    "load(\"www/german_dynamic_cost.png\")"
   ]
  },
  {
   "cell_type": "markdown",
   "id": "9bbba4a8-582b-4e99-a0ee-230186dbacaa",
   "metadata": {},
   "source": [
    "### Adjusting for imbalance"
   ]
  },
  {
   "cell_type": "code",
   "execution_count": null,
   "id": "aea40d7c-631e-43d8-9330-854338f1d7ea",
   "metadata": {},
   "outputs": [],
   "source": [
    "using MLDataUtils\n",
    "X_train, y_train = oversample((transpose(X),y))\n",
    "X_train = transpose(X_train);\n",
    "model = bayes_logreg(X_train,y_train);"
   ]
  },
  {
   "cell_type": "code",
   "execution_count": null,
   "metadata": {},
   "outputs": [],
   "source": [
    "y_hat = predict(model,X)\n",
    "rocplot(y,y_hat)"
   ]
  }
 ],
 "metadata": {
  "kernelspec": {
   "display_name": "Julia 1.6.4",
   "language": "julia",
   "name": "julia-1.6"
  },
  "language_info": {
   "file_extension": ".jl",
   "mimetype": "application/julia",
   "name": "julia",
   "version": "1.6.4"
  },
  "orig_nbformat": 4
 },
 "nbformat": 4,
 "nbformat_minor": 2
}
