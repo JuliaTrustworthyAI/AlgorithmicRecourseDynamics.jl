{
 "cells": [
  {
   "cell_type": "markdown",
   "metadata": {},
   "source": [
    "# Boston Housing"
   ]
  },
  {
   "cell_type": "code",
   "execution_count": 54,
   "metadata": {},
   "outputs": [
    {
     "name": "stderr",
     "output_type": "stream",
     "text": [
      "WARNING: replacing module Models.\n",
      "WARNING: replacing module Experiments.\n"
     ]
    },
    {
     "data": {
      "text/plain": [
       "\"output/boston_housing_ensemble\""
      ]
     },
     "metadata": {},
     "output_type": "display_data"
    }
   ],
   "source": [
    "include(\"../src/load.jl\")\n",
    "using AlgorithmicRecourse, MLDatasets, Flux\n",
    "using Plots, PlotThemes\n",
    "theme(:juno)\n",
    "using Logging\n",
    "disable_logging(Logging.Info)\n",
    "output_folder = \"output/boston_housing_ensemble\""
   ]
  },
  {
   "cell_type": "markdown",
   "metadata": {},
   "source": [
    "## Training the classifier"
   ]
  },
  {
   "cell_type": "code",
   "execution_count": 55,
   "metadata": {},
   "outputs": [],
   "source": [
    "using MLDatasets, Statistics\n",
    "X = BostonHousing.features()\n",
    "y = BostonHousing.targets()\n",
    "y = Float64.(y .>= median(y)); # binary target"
   ]
  },
  {
   "cell_type": "markdown",
   "metadata": {},
   "source": [
    "To start off we will just train a single neural network for the binary classification task."
   ]
  },
  {
   "cell_type": "code",
   "execution_count": 56,
   "metadata": {},
   "outputs": [
    {
     "data": {
      "text/plain": [
       "loss (generic function with 1 method)"
      ]
     },
     "metadata": {},
     "output_type": "display_data"
    }
   ],
   "source": [
    "# Prepare data and model:\n",
    "using Random\n",
    "Random.seed!(1234)\n",
    "using StatsBase\n",
    "dt = fit(ZScoreTransform, X, dims=2)\n",
    "StatsBase.transform!(dt, X)\n",
    "xs = Flux.unstack(X,2)\n",
    "data = zip(xs,y)\n",
    "nn = Models.build_model(input_dim=size(X)[1], n_hidden=100)\n",
    "loss(x, y) = Flux.Losses.logitbinarycrossentropy(nn(x), y)"
   ]
  },
  {
   "cell_type": "markdown",
   "metadata": {},
   "source": [
    "The model achieves decent training accuracy"
   ]
  },
  {
   "cell_type": "code",
   "execution_count": 57,
   "metadata": {},
   "outputs": [],
   "source": [
    "run = false\n",
    "if run\n",
    "  # Train model:\n",
    "  using Flux.Optimise: update!, ADAM\n",
    "  using Statistics, StatsBase\n",
    "  opt = ADAM()\n",
    "  epochs = 100\n",
    "  avg_loss(data) = mean(map(d -> loss(d[1],d[2]), data))\n",
    "  accuracy(data) = sum(map(d ->round.(Flux.σ.(nn(d[1]))) .== d[2], data))[1]/length(data)\n",
    "\n",
    "  using Plots\n",
    "  anim = Animation()\n",
    "  avg_l = [avg_loss(data)]\n",
    "  p1 = scatter( ylim=(0,avg_l[1]), xlim=(0,epochs), legend=false, xlab=\"Epoch\", title=\"Average loss\")\n",
    "  acc = [accuracy(data)]\n",
    "  p2 = scatter( ylim=(0.5,1), xlim=(0,epochs), legend=false, xlab=\"Epoch\", title=\"Accuracy\")\n",
    "\n",
    "  for epoch = 1:epochs\n",
    "    for d in data\n",
    "      gs = gradient(params(nn)) do\n",
    "        l = loss(d...)\n",
    "      end\n",
    "      update!(opt, params(nn), gs)\n",
    "    end\n",
    "    avg_l = vcat(avg_l,avg_loss(data))\n",
    "    plot!(p1, [0:epoch], avg_l, color=1)\n",
    "    scatter!(p1, [0:epoch], avg_l, color=1)\n",
    "    acc = vcat(acc,accuracy(data))\n",
    "    plot!(p2, [0:epoch], acc, color=1)\n",
    "    scatter!(p2, [0:epoch], acc, color=1)\n",
    "    plt=plot(p1,p2, size=(600,300))\n",
    "    frame(anim, plt)\n",
    "  end\n",
    "\n",
    "  gif(anim, \"www/boston_housing_single_nn.gif\", fps=10);\n",
    "end"
   ]
  },
  {
   "cell_type": "markdown",
   "metadata": {},
   "source": [
    "![](www/boston_housing_single_nn.gif)"
   ]
  },
  {
   "cell_type": "markdown",
   "metadata": {},
   "source": [
    "Next we will build and train a deep ensemble."
   ]
  },
  {
   "cell_type": "code",
   "execution_count": 58,
   "metadata": {},
   "outputs": [],
   "source": [
    "opt = ADAM()\n",
    "loss_type = :logitbinarycrossentropy\n",
    "run = false\n",
    "if run\n",
    "    K = 50\n",
    "    𝓜 = Models.build_ensemble(K,kw=(input_dim=size(X)[1], n_hidden=100));\n",
    "    𝓜, anim = Models.forward(𝓜, data, opt, n_epochs=30, plot_every=10, loss_type=loss_type); # fit the ensemble\n",
    "    Models.save_ensemble(𝓜, root=output_folder) # save to disk\n",
    "    gif(anim, \"www/boston_housing_ensemble_loss.gif\", fps=25);\n",
    "end"
   ]
  },
  {
   "cell_type": "markdown",
   "metadata": {},
   "source": [
    "![](www/boston_housing_ensemble_loss.gif)"
   ]
  },
  {
   "cell_type": "markdown",
   "metadata": {},
   "source": [
    "Testing a single run:"
   ]
  },
  {
   "cell_type": "code",
   "execution_count": 59,
   "metadata": {},
   "outputs": [],
   "source": [
    "# 𝓜 = Models.load_ensemble(root=output_folder)\n",
    "# 𝑴 = Models.FittedEnsemble(𝓜,opt,loss_type);\n",
    "# using Random\n",
    "# Random.seed!(1234)\n",
    "# x̅ = X[:,(y.==0)'][:,rand(1:length((y.==0)'))] # select individual sample\n",
    "# x̅ = reshape(x̅, (length(x̅),1))\n",
    "# γ = 0.75\n",
    "# target=1.0\n",
    "# T = 1000\n",
    "# n = round(size(X)[2])\n",
    "# δ = 0.1\n",
    "# generator = GreedyGenerator(δ,n,:logitbinarycrossentropy,nothing)\n",
    "# recourse = generate_recourse(generator, x̅, 𝑴, target, γ, T=T); # generate recourse"
   ]
  },
  {
   "cell_type": "markdown",
   "metadata": {},
   "source": [
    "## Experiment"
   ]
  },
  {
   "cell_type": "markdown",
   "metadata": {},
   "source": [
    "Prepare ensemble for use with AlgorithmicRecourse.jl:"
   ]
  },
  {
   "cell_type": "code",
   "execution_count": 60,
   "metadata": {},
   "outputs": [
    {
     "data": {
      "text/plain": [
       "GreedyGenerator(0.1, 506, :logitbinarycrossentropy, nothing)"
      ]
     },
     "metadata": {},
     "output_type": "display_data"
    }
   ],
   "source": [
    "𝓜 = Models.load_ensemble(root=output_folder)\n",
    "𝑴 = Models.FittedEnsemble(𝓜, opt, loss_type);\n",
    "target=1.0\n",
    "T = 1000\n",
    "n = round(size(X)[2])\n",
    "δ = 0.1\n",
    "generator = GreedyGenerator(δ,n,:logitbinarycrossentropy,nothing)"
   ]
  },
  {
   "cell_type": "markdown",
   "metadata": {},
   "source": [
    "Prepare grid of variables for experiment:"
   ]
  },
  {
   "cell_type": "code",
   "execution_count": 61,
   "metadata": {},
   "outputs": [],
   "source": [
    "# Variables:\n",
    "μ = [0.01,0.05,0.1]\n",
    "γ = [0.55,0.75,0.9]\n",
    "grid_ = Experiments.GridVariables(μ, γ)\n",
    "n_rounds = 10\n",
    "# Experiment:\n",
    "experiment = Experiments.Experiment(X,y,𝑴,target,grid_,n_rounds);"
   ]
  },
  {
   "cell_type": "code",
   "execution_count": 62,
   "metadata": {},
   "outputs": [
    {
     "data": {
      "text/plain": [
       "\"output/boston_housing_outcome_greedy.csv\""
      ]
     },
     "metadata": {},
     "output_type": "display_data"
    }
   ],
   "source": [
    "outcome = Experiments.run_experiment(experiment, generator, 5, T=T)\n",
    "using DataFrames, CSV\n",
    "CSV.write(\"output/boston_housing_outcome_greedy.csv\", DataFrame(outcome))"
   ]
  },
  {
   "cell_type": "code",
   "execution_count": 63,
   "metadata": {},
   "outputs": [
    {
     "data": {
      "text/plain": [
       "90-element Vector{Any}:\n",
       " (pct_valid = 1.0, avg_cost = 4.631414470763766, t = 1, μ = 0.01, γ = 0.55, k = 5)\n",
       " (pct_valid = 1.0, avg_cost = 5.181698563212648, t = 2, μ = 0.01, γ = 0.55, k = 5)\n",
       " (pct_valid = 1.0, avg_cost = 5.734108474732583, t = 3, μ = 0.01, γ = 0.55, k = 5)\n",
       " (pct_valid = 1.0, avg_cost = 5.997499478949542, t = 4, μ = 0.01, γ = 0.55, k = 5)\n",
       " (pct_valid = 1.0, avg_cost = 6.307138812488593, t = 5, μ = 0.01, γ = 0.55, k = 5)\n",
       " (pct_valid = 0.9411764705882353, avg_cost = 6.832276341015491, t = 6, μ = 0.01, γ = 0.55, k = 5)\n",
       " (pct_valid = 0.95, avg_cost = 7.4511744040788646, t = 7, μ = 0.01, γ = 0.55, k = 5)\n",
       " (pct_valid = 0.9130434782608695, avg_cost = 8.10246875958186, t = 8, μ = 0.01, γ = 0.55, k = 5)\n",
       " (pct_valid = 1.0, avg_cost = 8.268010643437757, t = 9, μ = 0.01, γ = 0.55, k = 5)\n",
       " (pct_valid = 1.0, avg_cost = 8.324662155306966, t = 10, μ = 0.01, γ = 0.55, k = 5)\n",
       " ⋮\n",
       " (pct_valid = 1.0, avg_cost = 11.014535850411495, t = 2, μ = 0.1, γ = 0.9, k = 5)\n",
       " (pct_valid = 1.0, avg_cost = 13.640747780088896, t = 3, μ = 0.1, γ = 0.9, k = 5)\n",
       " (pct_valid = 1.0, avg_cost = 15.510641508332276, t = 4, μ = 0.1, γ = 0.9, k = 5)\n",
       " (pct_valid = 1.0, avg_cost = 16.57618774024957, t = 5, μ = 0.1, γ = 0.9, k = 5)\n",
       " (pct_valid = 1.0, avg_cost = 17.60227258055051, t = 6, μ = 0.1, γ = 0.9, k = 5)\n",
       " (pct_valid = 1.0, avg_cost = 18.313110058097728, t = 7, μ = 0.1, γ = 0.9, k = 5)\n",
       " (pct_valid = 1.0, avg_cost = 19.506665527454974, t = 8, μ = 0.1, γ = 0.9, k = 5)\n",
       " (pct_valid = 1.0, avg_cost = 20.444803740804172, t = 9, μ = 0.1, γ = 0.9, k = 5)\n",
       " (pct_valid = 1.0, avg_cost = 21.33026019531877, t = 10, μ = 0.1, γ = 0.9, k = 5)"
      ]
     },
     "metadata": {},
     "output_type": "display_data"
    }
   ],
   "source": [
    "generator = GenericGenerator(0.1,0.1,1e-5,:logitbinarycrossentropy,nothing)\n",
    "outcome = Experiments.run_experiment(experiment, generator, 5, T=T)\n",
    "CSV.write(\"output/boston_housing_outcome_generic.csv\", DataFrame(outcome))"
   ]
  }
 ],
 "metadata": {
  "kernelspec": {
   "display_name": "Julia 1.6.5",
   "language": "julia",
   "name": "julia-1.6"
  },
  "language_info": {
   "file_extension": ".jl",
   "mimetype": "application/julia",
   "name": "julia",
   "version": "1.6.5"
  },
  "orig_nbformat": 4
 },
 "nbformat": 4,
 "nbformat_minor": 2
}
