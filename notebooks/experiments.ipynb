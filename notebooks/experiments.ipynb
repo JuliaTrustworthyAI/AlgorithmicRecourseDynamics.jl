{
 "cells": [
  {
   "cell_type": "code",
   "execution_count": 1,
   "metadata": {},
   "outputs": [],
   "source": [
    "import warnings\n",
    "warnings.filterwarnings(\"ignore\", message=r\"Passing\", category=FutureWarning)\n",
    "warnings.filterwarnings(\"ignore\", message=r\"Implicit\", category=UserWarning)\n",
    "warnings.filterwarnings(\"ignore\", message=r\"cannot\", category=UserWarning)"
   ]
  },
  {
   "cell_type": "code",
   "execution_count": 2,
   "metadata": {},
   "outputs": [
    {
     "name": "stderr",
     "output_type": "stream",
     "text": [
      "/Users/FA31DU/.pyenv/versions/3.7.10/lib/python3.7/site-packages/tqdm/auto.py:22: TqdmWarning: IProgress not found. Please update jupyter and ipywidgets. See https://ipywidgets.readthedocs.io/en/stable/user_install.html\n",
      "  from .autonotebook import tqdm as notebook_tqdm\n",
      "Using TensorFlow backend.\n"
     ]
    },
    {
     "name": "stdout",
     "output_type": "stream",
     "text": [
      "[INFO] Using Python-MIP package version 1.12.0 [model.py <module>]\n"
     ]
    }
   ],
   "source": [
    "import os\n",
    "import sys\n",
    "sys.path.append(\"..\")\n",
    "\n",
    "from carla.recourse_methods import Dice, Wachter, Revise, Clue\n",
    "from copy import deepcopy\n",
    "from src.python import (\n",
    "    DynamicCsvCatalog,\n",
    "    DynamicOnlineCatalog,\n",
    "    RecourseExperiment,\n",
    "    RecourseGenerator,\n",
    "    train_model,\n",
    "    plot_experiment,\n",
    "    generate_gif\n",
    ")\n",
    "\n",
    "os.environ[\"CUDA_VISIBLE_DEVICES\"] = \"\"\n",
    "data_path = \"../data\""
   ]
  },
  {
   "cell_type": "markdown",
   "metadata": {},
   "source": [
    "We load the dataset as a `DynamicCsvCatalog` and provide it with the lists of categorical and continuous features, a list of immutable features that should not be taken into consideration by the recourse generator, the target, encoding of positive and negative classes, size of the test set which is used to assess the error of the classifier, and a name."
   ]
  },
  {
   "cell_type": "code",
   "execution_count": 3,
   "metadata": {},
   "outputs": [
    {
     "name": "stdout",
     "output_type": "stream",
     "text": [
      "[INFO] Balance: train set 0.5, test set 0.5 [dynamic_csv_catalog.py __init__]\n"
     ]
    }
   ],
   "source": [
    "dataset = DynamicCsvCatalog(file_path=os.path.join(data_path,\"give_me_some_credit_balanced.csv\"), \n",
    "                            categorical=[],\n",
    "                            continuous=['RevolvingUtilizationOfUnsecuredLines',\n",
    "                                        'age', 'NumberOfTime30-59DaysPastDueNotWorse',\n",
    "                                        'DebtRatio', 'MonthlyIncome',\n",
    "                                        'NumberOfOpenCreditLinesAndLoans',\n",
    "                                        'NumberOfTimes90DaysLate',\n",
    "                                        'NumberRealEstateLoansOrLines',\n",
    "                                        'NumberOfTime60-89DaysPastDueNotWorse',\n",
    "                                        'NumberOfDependents'],\n",
    "                            immutables=['age'], target='SeriousDlqin2yrs',\n",
    "                            positive=1, negative=0, test_size=0.3, name=\"GMSC\")"
   ]
  },
  {
   "cell_type": "markdown",
   "metadata": {},
   "source": [
    "Our frameworks supports simultaneous assessment of multiple generators. To that end, we pass a list of `RecourseGenerators` which should be put to test in the same experimental conditions.\n",
    "\n",
    "Data about the dynamics of recourse is collected for all of the declared generators. It can be saved to a `.csv` file."
   ]
  },
  {
   "cell_type": "code",
   "execution_count": 4,
   "metadata": {},
   "outputs": [
    {
     "name": "stdout",
     "output_type": "stream",
     "text": [
      "[INFO] Training the initial model [recourse_generator.py train_model]\n",
      "[INFO] Start training of Variational Autoencoder... [models.py fit]\n",
      "[INFO] [Epoch: 0/5] [objective: 2.446] [models.py fit]\n",
      "[INFO] [ELBO train: 2.45] [models.py fit]\n",
      "[INFO] [ELBO train: 0.43] [models.py fit]\n",
      "[INFO] [ELBO train: 0.33] [models.py fit]\n",
      "[INFO] [ELBO train: 0.26] [models.py fit]\n",
      "[INFO] [ELBO train: 0.23] [models.py fit]\n",
      "[INFO] ... finished training of Variational Autoencoder. [models.py fit]\n",
      "[INFO] \n",
      "Net: [utils.py __init__]\n",
      "[INFO] VAE_gauss_net [fc_gauss_cat.py __init__]\n",
      "[INFO] Total params: 0.00M [fc_gauss_cat.py create_net]\n",
      "[INFO] \n",
      "Network: [train.py train_VAE]\n",
      "[INFO] \n",
      "Train: [train.py train_VAE]\n",
      "[INFO] init cost variables: [train.py train_VAE]\n"
     ]
    },
    {
     "name": "stderr",
     "output_type": "stream",
     "text": [
      "/Users/FA31DU/.pyenv/versions/3.7.10/lib/python3.7/site-packages/carla/recourse_methods/catalog/clue/library/clue_ml/src/radam.py:55: UserWarning: This overload of addcmul_ is deprecated:\n",
      "\taddcmul_(Number value, Tensor tensor1, Tensor tensor2)\n",
      "Consider using one of the following signatures instead:\n",
      "\taddcmul_(Tensor tensor1, Tensor tensor2, *, Number value) (Triggered internally at  ../torch/csrc/utils/python_arg_parser.cpp:882.)\n",
      "  exp_avg_sq.mul_(beta2).addcmul_(1 - beta2, grad, grad)\n"
     ]
    },
    {
     "name": "stdout",
     "output_type": "stream",
     "text": [
      "[INFO] it 0/5, vlb -9.243020,  [train.py train_VAE]\n",
      "[INFO] time: 3.333032 seconds\n",
      " [train.py train_VAE]\n",
      "[INFO] vlb -950.682777 (-inf)\n",
      " [train.py train_VAE]\n",
      "[INFO] Writting /Users/FA31DU/carla/models/autoencoders/clue/fc_VAE_custom_models/theta_best.dat\n",
      " [utils.py save]\n",
      "[INFO] it 1/5, vlb -7.037175,  [train.py train_VAE]\n",
      "[INFO] time: 3.069075 seconds\n",
      " [train.py train_VAE]\n",
      "[INFO] vlb -97.270361 (-950.682777)\n",
      " [train.py train_VAE]\n",
      "[INFO] Writting /Users/FA31DU/carla/models/autoencoders/clue/fc_VAE_custom_models/theta_best.dat\n",
      " [utils.py save]\n",
      "[INFO] it 2/5, vlb -5.259840,  [train.py train_VAE]\n",
      "[INFO] time: 3.103199 seconds\n",
      " [train.py train_VAE]\n",
      "[INFO] vlb -102.960527 (-97.270361)\n",
      " [train.py train_VAE]\n",
      "[INFO] it 3/5, vlb -4.108694,  [train.py train_VAE]\n",
      "[INFO] time: 2.995562 seconds\n",
      " [train.py train_VAE]\n",
      "[INFO] vlb -103.550050 (-97.270361)\n",
      " [train.py train_VAE]\n",
      "[INFO] it 4/5, vlb -3.228565,  [train.py train_VAE]\n",
      "[INFO] time: 3.140887 seconds\n",
      " [train.py train_VAE]\n",
      "[INFO] vlb -77.880078 (-97.270361)\n",
      " [train.py train_VAE]\n",
      "[INFO] Writting /Users/FA31DU/carla/models/autoencoders/clue/fc_VAE_custom_models/theta_best.dat\n",
      " [utils.py save]\n",
      "[INFO] Writting /Users/FA31DU/carla/models/autoencoders/clue/fc_VAE_custom_models/theta_last.dat\n",
      " [utils.py save]\n",
      "[INFO] average time: 3.515569 seconds\n",
      " [train.py train_VAE]\n",
      "[INFO] \n",
      "RESULTS: [train.py train_VAE]\n",
      "[INFO] best_vlb_dev: -77.880078 [train.py train_VAE]\n",
      "[INFO] best_vlb_train: -3.228565 [train.py train_VAE]\n",
      "[INFO] nb_parameters: 1174 (1.15KB)\n",
      " [train.py train_VAE]\n",
      "[INFO] \n",
      "Net: [utils.py __init__]\n",
      "[INFO] VAE_gauss_net [fc_gauss_cat.py __init__]\n",
      "[INFO] Total params: 0.00M [fc_gauss_cat.py create_net]\n",
      "[INFO] Reading /Users/FA31DU/carla/models/autoencoders/clue/fc_VAE_custom_models/theta_best.dat\n",
      " [utils.py load]\n",
      "[INFO] restoring epoch: 5, lr: 0.000100 [utils.py load]\n",
      "[INFO] Updating the Wachter model [recourse_generator.py update_model]\n",
      "[INFO] Retraining the model [recourse_generator.py train_model]\n",
      "[INFO] Current balance: train set 0.5, test set 0.5 [dynamic_mlmodel_catalog.py retrain]\n",
      "[INFO] Updating the DICE_3 model [recourse_generator.py update_model]\n",
      "[INFO] Retraining the model [recourse_generator.py train_model]\n",
      "[INFO] Current balance: train set 0.5, test set 0.5 [dynamic_mlmodel_catalog.py retrain]\n",
      "[INFO] Updating the REVISE model [recourse_generator.py update_model]\n",
      "[INFO] Retraining the model [recourse_generator.py train_model]\n",
      "[INFO] Current balance: train set 0.5, test set 0.5 [dynamic_mlmodel_catalog.py retrain]\n",
      "[INFO] Start training of Variational Autoencoder... [models.py fit]\n",
      "[INFO] [Epoch: 0/5] [objective: 2.202] [models.py fit]\n",
      "[INFO] [ELBO train: 2.2] [models.py fit]\n",
      "[INFO] [ELBO train: 0.46] [models.py fit]\n",
      "[INFO] [ELBO train: 0.33] [models.py fit]\n",
      "[INFO] [ELBO train: 0.27] [models.py fit]\n",
      "[INFO] [ELBO train: 0.23] [models.py fit]\n",
      "[INFO] ... finished training of Variational Autoencoder. [models.py fit]\n",
      "[INFO] Updating the CLUE model [recourse_generator.py update_model]\n",
      "[INFO] Retraining the model [recourse_generator.py train_model]\n",
      "[INFO] Current balance: train set 0.5, test set 0.5 [dynamic_mlmodel_catalog.py retrain]\n",
      "[INFO] \n",
      "Net: [utils.py __init__]\n",
      "[INFO] VAE_gauss_net [fc_gauss_cat.py __init__]\n",
      "[INFO] Total params: 0.00M [fc_gauss_cat.py create_net]\n",
      "[INFO] \n",
      "Network: [train.py train_VAE]\n",
      "[INFO] \n",
      "Train: [train.py train_VAE]\n",
      "[INFO] init cost variables: [train.py train_VAE]\n",
      "[INFO] it 0/5, vlb -9.243020,  [train.py train_VAE]\n",
      "[INFO] time: 3.021812 seconds\n",
      " [train.py train_VAE]\n",
      "[INFO] vlb -950.682777 (-inf)\n",
      " [train.py train_VAE]\n",
      "[INFO] Writting /Users/FA31DU/carla/models/autoencoders/clue/fc_VAE_custom_models/theta_best.dat\n",
      " [utils.py save]\n",
      "[INFO] it 1/5, vlb -7.037175,  [train.py train_VAE]\n",
      "[INFO] time: 3.174943 seconds\n",
      " [train.py train_VAE]\n",
      "[INFO] vlb -97.270361 (-950.682777)\n",
      " [train.py train_VAE]\n",
      "[INFO] Writting /Users/FA31DU/carla/models/autoencoders/clue/fc_VAE_custom_models/theta_best.dat\n",
      " [utils.py save]\n",
      "[INFO] it 2/5, vlb -5.259840,  [train.py train_VAE]\n",
      "[INFO] time: 3.129703 seconds\n",
      " [train.py train_VAE]\n",
      "[INFO] vlb -102.960527 (-97.270361)\n",
      " [train.py train_VAE]\n",
      "[INFO] it 3/5, vlb -4.108694,  [train.py train_VAE]\n",
      "[INFO] time: 3.033765 seconds\n",
      " [train.py train_VAE]\n",
      "[INFO] vlb -103.550050 (-97.270361)\n",
      " [train.py train_VAE]\n",
      "[INFO] it 4/5, vlb -3.228565,  [train.py train_VAE]\n",
      "[INFO] time: 3.158649 seconds\n",
      " [train.py train_VAE]\n",
      "[INFO] vlb -77.880078 (-97.270361)\n",
      " [train.py train_VAE]\n",
      "[INFO] Writting /Users/FA31DU/carla/models/autoencoders/clue/fc_VAE_custom_models/theta_best.dat\n",
      " [utils.py save]\n",
      "[INFO] Writting /Users/FA31DU/carla/models/autoencoders/clue/fc_VAE_custom_models/theta_last.dat\n",
      " [utils.py save]\n",
      "[INFO] average time: 3.477054 seconds\n",
      " [train.py train_VAE]\n",
      "[INFO] \n",
      "RESULTS: [train.py train_VAE]\n",
      "[INFO] best_vlb_dev: -77.880078 [train.py train_VAE]\n",
      "[INFO] best_vlb_train: -3.228565 [train.py train_VAE]\n",
      "[INFO] nb_parameters: 1174 (1.15KB)\n",
      " [train.py train_VAE]\n",
      "[INFO] \n",
      "Net: [utils.py __init__]\n",
      "[INFO] VAE_gauss_net [fc_gauss_cat.py __init__]\n",
      "[INFO] Total params: 0.00M [fc_gauss_cat.py create_net]\n",
      "[INFO] Reading /Users/FA31DU/carla/models/autoencoders/clue/fc_VAE_custom_models/theta_best.dat\n",
      " [utils.py load]\n",
      "[INFO] restoring epoch: 5, lr: 0.000100 [utils.py load]\n",
      "[INFO] Starting epoch 1 [recourse_experiment.py run]\n",
      "[INFO] Applying the Wachter generator. [recourse_generator.py apply_recourse_with_timeout]\n",
      "[INFO] Generating counterfactual 1 with Wachter [recourse_generator.py apply_recourse_with_timeout]\n"
     ]
    },
    {
     "ename": "IndexError",
     "evalue": "tensors used as indices must be long, byte or bool tensors",
     "output_type": "error",
     "traceback": [
      "\u001b[0;31m---------------------------------------------------------------------------\u001b[0m",
      "\u001b[0;31mIndexError\u001b[0m                                Traceback (most recent call last)",
      "\u001b[0;32m/var/folders/99/2fj_h1qs3gj3x8nqmpx20mrc0000gq/T/ipykernel_3762/1357346970.py\u001b[0m in \u001b[0;36m<module>\u001b[0;34m\u001b[0m\n\u001b[1;32m     58\u001b[0m \u001b[0;34m\u001b[0m\u001b[0m\n\u001b[1;32m     59\u001b[0m   \u001b[0mexperiment\u001b[0m \u001b[0;34m=\u001b[0m \u001b[0mRecourseExperiment\u001b[0m\u001b[0;34m(\u001b[0m\u001b[0mdataset\u001b[0m\u001b[0;34m,\u001b[0m \u001b[0mmodel\u001b[0m\u001b[0;34m,\u001b[0m \u001b[0mgenerators\u001b[0m\u001b[0;34m,\u001b[0m \u001b[0mname\u001b[0m\u001b[0;34m,\u001b[0m \u001b[0mhyper_params\u001b[0m\u001b[0;34m)\u001b[0m\u001b[0;34m\u001b[0m\u001b[0;34m\u001b[0m\u001b[0m\n\u001b[0;32m---> 60\u001b[0;31m   \u001b[0mexperiment\u001b[0m\u001b[0;34m.\u001b[0m\u001b[0mrun\u001b[0m\u001b[0;34m(\u001b[0m\u001b[0mepochs\u001b[0m\u001b[0;34m=\u001b[0m\u001b[0mepochs\u001b[0m\u001b[0;34m,\u001b[0m \u001b[0mrecourse_per_epoch\u001b[0m\u001b[0;34m=\u001b[0m\u001b[0mrounds_per_epoch\u001b[0m\u001b[0;34m,\u001b[0m \u001b[0mcalculate_p\u001b[0m\u001b[0;34m=\u001b[0m\u001b[0;36m1500\u001b[0m\u001b[0;34m)\u001b[0m\u001b[0;34m\u001b[0m\u001b[0;34m\u001b[0m\u001b[0m\n\u001b[0m\u001b[1;32m     61\u001b[0m   \u001b[0mexperiment\u001b[0m\u001b[0;34m.\u001b[0m\u001b[0msave_data\u001b[0m\u001b[0;34m(\u001b[0m\u001b[0;34m)\u001b[0m\u001b[0;34m\u001b[0m\u001b[0;34m\u001b[0m\u001b[0m\n",
      "\u001b[0;32m~/Documents/code/algorithmic_recourse_dynamics/src/python/dynamic_recourse/recourse_experiment.py\u001b[0m in \u001b[0;36mrun\u001b[0;34m(self, epochs, recourse_per_epoch, calculate_p)\u001b[0m\n\u001b[1;32m    153\u001b[0m                 self.benchmarks[g.name].next_iteration(self.experiment_data, path,\n\u001b[1;32m    154\u001b[0m                                                        \u001b[0mcurrent_factuals_index\u001b[0m\u001b[0;34m,\u001b[0m\u001b[0;34m\u001b[0m\u001b[0;34m\u001b[0m\u001b[0m\n\u001b[0;32m--> 155\u001b[0;31m                                                        self.initial_measurements, p)\n\u001b[0m\u001b[1;32m    156\u001b[0m \u001b[0;34m\u001b[0m\u001b[0m\n\u001b[1;32m    157\u001b[0m         \u001b[0;31m# Measure the quality of recourse using CARLA tools\u001b[0m\u001b[0;34m\u001b[0m\u001b[0;34m\u001b[0m\u001b[0;34m\u001b[0m\u001b[0m\n",
      "\u001b[0;32m~/Documents/code/algorithmic_recourse_dynamics/src/python/dynamic_recourse/dynamic_benchmark.py\u001b[0m in \u001b[0;36mnext_iteration\u001b[0;34m(self, experiment_data, path, current_factuals_index, initial_measurements, calculate_p)\u001b[0m\n\u001b[1;32m     97\u001b[0m         \u001b[0;31m# Apply recourse\u001b[0m\u001b[0;34m\u001b[0m\u001b[0;34m\u001b[0m\u001b[0;34m\u001b[0m\u001b[0m\n\u001b[1;32m     98\u001b[0m         \u001b[0mstart_time\u001b[0m \u001b[0;34m=\u001b[0m \u001b[0mtimeit\u001b[0m\u001b[0;34m.\u001b[0m\u001b[0mdefault_timer\u001b[0m\u001b[0;34m(\u001b[0m\u001b[0;34m)\u001b[0m\u001b[0;34m\u001b[0m\u001b[0;34m\u001b[0m\u001b[0m\n\u001b[0;32m---> 99\u001b[0;31m         \u001b[0mcounterfactuals\u001b[0m \u001b[0;34m=\u001b[0m \u001b[0mself\u001b[0m\u001b[0;34m.\u001b[0m\u001b[0m_generator\u001b[0m\u001b[0;34m.\u001b[0m\u001b[0mapply\u001b[0m\u001b[0;34m(\u001b[0m\u001b[0mcurrent_factuals\u001b[0m\u001b[0;34m)\u001b[0m\u001b[0;34m\u001b[0m\u001b[0;34m\u001b[0m\u001b[0m\n\u001b[0m\u001b[1;32m    100\u001b[0m         \u001b[0;32mif\u001b[0m \u001b[0mself\u001b[0m\u001b[0;34m.\u001b[0m\u001b[0m_counterfactuals\u001b[0m \u001b[0;32mis\u001b[0m \u001b[0;32mNone\u001b[0m\u001b[0;34m:\u001b[0m\u001b[0;34m\u001b[0m\u001b[0;34m\u001b[0m\u001b[0m\n\u001b[1;32m    101\u001b[0m             \u001b[0mself\u001b[0m\u001b[0;34m.\u001b[0m\u001b[0m_counterfactuals\u001b[0m \u001b[0;34m=\u001b[0m \u001b[0mcounterfactuals\u001b[0m\u001b[0;34m\u001b[0m\u001b[0;34m\u001b[0m\u001b[0m\n",
      "\u001b[0;32m~/Documents/code/algorithmic_recourse_dynamics/src/python/dynamic_recourse/recourse_generator.py\u001b[0m in \u001b[0;36mapply\u001b[0;34m(self, factuals)\u001b[0m\n\u001b[1;32m     71\u001b[0m         \"\"\"\n\u001b[1;32m     72\u001b[0m         \u001b[0;32mif\u001b[0m \u001b[0mself\u001b[0m\u001b[0;34m.\u001b[0m\u001b[0mtimeout\u001b[0m \u001b[0;32mis\u001b[0m \u001b[0;32mnot\u001b[0m \u001b[0;32mNone\u001b[0m\u001b[0;34m:\u001b[0m\u001b[0;34m\u001b[0m\u001b[0;34m\u001b[0m\u001b[0m\n\u001b[0;32m---> 73\u001b[0;31m             \u001b[0mcounterfactuals\u001b[0m \u001b[0;34m=\u001b[0m \u001b[0mself\u001b[0m\u001b[0;34m.\u001b[0m\u001b[0mapply_recourse_with_timeout\u001b[0m\u001b[0;34m(\u001b[0m\u001b[0mfactuals\u001b[0m\u001b[0;34m)\u001b[0m\u001b[0;34m\u001b[0m\u001b[0;34m\u001b[0m\u001b[0m\n\u001b[0m\u001b[1;32m     74\u001b[0m         \u001b[0;32melse\u001b[0m\u001b[0;34m:\u001b[0m\u001b[0;34m\u001b[0m\u001b[0;34m\u001b[0m\u001b[0m\n\u001b[1;32m     75\u001b[0m             \u001b[0mcounterfactuals\u001b[0m \u001b[0;34m=\u001b[0m \u001b[0mself\u001b[0m\u001b[0;34m.\u001b[0m\u001b[0mapply_recourse\u001b[0m\u001b[0;34m(\u001b[0m\u001b[0mfactuals\u001b[0m\u001b[0;34m)\u001b[0m\u001b[0;34m\u001b[0m\u001b[0;34m\u001b[0m\u001b[0m\n",
      "\u001b[0;32m~/Documents/code/algorithmic_recourse_dynamics/src/python/dynamic_recourse/recourse_generator.py\u001b[0m in \u001b[0;36mapply_recourse_with_timeout\u001b[0;34m(self, factuals)\u001b[0m\n\u001b[1;32m    119\u001b[0m             \u001b[0;31m# CARLA does not implement a timeout for the generators by default\u001b[0m\u001b[0;34m\u001b[0m\u001b[0;34m\u001b[0m\u001b[0;34m\u001b[0m\u001b[0m\n\u001b[1;32m    120\u001b[0m             \u001b[0;31m# but we want to prevent the code from running indefinitely\u001b[0m\u001b[0;34m\u001b[0m\u001b[0;34m\u001b[0m\u001b[0;34m\u001b[0m\u001b[0m\n\u001b[0;32m--> 121\u001b[0;31m             \u001b[0mcounterfactual\u001b[0m \u001b[0;34m=\u001b[0m \u001b[0mrecourse_controller\u001b[0m\u001b[0;34m(\u001b[0m\u001b[0mrecourse_worker\u001b[0m\u001b[0;34m,\u001b[0m \u001b[0mself\u001b[0m\u001b[0;34m.\u001b[0m\u001b[0mtimeout\u001b[0m\u001b[0;34m,\u001b[0m \u001b[0mself\u001b[0m\u001b[0;34m.\u001b[0m\u001b[0mgenerator\u001b[0m\u001b[0;34m,\u001b[0m \u001b[0mf\u001b[0m\u001b[0;34m)\u001b[0m\u001b[0;34m\u001b[0m\u001b[0;34m\u001b[0m\u001b[0m\n\u001b[0m\u001b[1;32m    122\u001b[0m             \u001b[0;31m# We only want to overwrite the existing data if counterfactual generation was successful\u001b[0m\u001b[0;34m\u001b[0m\u001b[0;34m\u001b[0m\u001b[0;34m\u001b[0m\u001b[0m\n\u001b[1;32m    123\u001b[0m             \u001b[0;32mif\u001b[0m \u001b[0mcounterfactual\u001b[0m \u001b[0;32mis\u001b[0m \u001b[0;32mnot\u001b[0m \u001b[0;32mNone\u001b[0m \u001b[0;32mand\u001b[0m \u001b[0;32mnot\u001b[0m \u001b[0mcounterfactual\u001b[0m\u001b[0;34m.\u001b[0m\u001b[0mempty\u001b[0m\u001b[0;34m:\u001b[0m\u001b[0;34m\u001b[0m\u001b[0;34m\u001b[0m\u001b[0m\n",
      "\u001b[0;32m~/Documents/code/algorithmic_recourse_dynamics/src/python/dynamic_recourse/recourse_generator.py\u001b[0m in \u001b[0;36mrecourse_controller\u001b[0;34m(function, max_wait_time, generator, factual)\u001b[0m\n\u001b[1;32m    197\u001b[0m     \"\"\"\n\u001b[1;32m    198\u001b[0m     \u001b[0;32mtry\u001b[0m\u001b[0;34m:\u001b[0m\u001b[0;34m\u001b[0m\u001b[0;34m\u001b[0m\u001b[0m\n\u001b[0;32m--> 199\u001b[0;31m         \u001b[0;32mreturn\u001b[0m \u001b[0mfunc_timeout\u001b[0m\u001b[0;34m(\u001b[0m\u001b[0mmax_wait_time\u001b[0m\u001b[0;34m,\u001b[0m \u001b[0mfunction\u001b[0m\u001b[0;34m,\u001b[0m \u001b[0margs\u001b[0m\u001b[0;34m=\u001b[0m\u001b[0;34m[\u001b[0m\u001b[0mgenerator\u001b[0m\u001b[0;34m,\u001b[0m \u001b[0mfactual\u001b[0m\u001b[0;34m]\u001b[0m\u001b[0;34m)\u001b[0m\u001b[0;34m\u001b[0m\u001b[0;34m\u001b[0m\u001b[0m\n\u001b[0m\u001b[1;32m    200\u001b[0m     \u001b[0;32mexcept\u001b[0m \u001b[0mFunctionTimedOut\u001b[0m\u001b[0;34m:\u001b[0m\u001b[0;34m\u001b[0m\u001b[0;34m\u001b[0m\u001b[0m\n\u001b[1;32m    201\u001b[0m         \u001b[0mlog\u001b[0m\u001b[0;34m.\u001b[0m\u001b[0minfo\u001b[0m\u001b[0;34m(\u001b[0m\u001b[0;34m\"Timeout - No Counterfactual Explanation Found\"\u001b[0m\u001b[0;34m)\u001b[0m\u001b[0;34m\u001b[0m\u001b[0;34m\u001b[0m\u001b[0m\n",
      "\u001b[0;32m~/.pyenv/versions/3.7.10/lib/python3.7/site-packages/func_timeout/dafunc.py\u001b[0m in \u001b[0;36mfunc_timeout\u001b[0;34m(timeout, func, args, kwargs)\u001b[0m\n\u001b[1;32m    106\u001b[0m \u001b[0;34m\u001b[0m\u001b[0m\n\u001b[1;32m    107\u001b[0m     \u001b[0;32mif\u001b[0m \u001b[0mexception\u001b[0m\u001b[0;34m:\u001b[0m\u001b[0;34m\u001b[0m\u001b[0;34m\u001b[0m\u001b[0m\n\u001b[0;32m--> 108\u001b[0;31m         \u001b[0mraise_exception\u001b[0m\u001b[0;34m(\u001b[0m\u001b[0mexception\u001b[0m\u001b[0;34m)\u001b[0m\u001b[0;34m\u001b[0m\u001b[0;34m\u001b[0m\u001b[0m\n\u001b[0m\u001b[1;32m    109\u001b[0m \u001b[0;34m\u001b[0m\u001b[0m\n\u001b[1;32m    110\u001b[0m     \u001b[0;32mif\u001b[0m \u001b[0mret\u001b[0m\u001b[0;34m:\u001b[0m\u001b[0;34m\u001b[0m\u001b[0;34m\u001b[0m\u001b[0m\n",
      "\u001b[0;32m~/.pyenv/versions/3.7.10/lib/python3.7/site-packages/func_timeout/py3_raise.py\u001b[0m in \u001b[0;36mraise_exception\u001b[0;34m(exception)\u001b[0m\n\u001b[1;32m      5\u001b[0m \u001b[0;31m# Only available in python3.3+\u001b[0m\u001b[0;34m\u001b[0m\u001b[0;34m\u001b[0m\u001b[0;34m\u001b[0m\u001b[0m\n\u001b[1;32m      6\u001b[0m \u001b[0;32mdef\u001b[0m \u001b[0mraise_exception\u001b[0m\u001b[0;34m(\u001b[0m\u001b[0mexception\u001b[0m\u001b[0;34m)\u001b[0m\u001b[0;34m:\u001b[0m\u001b[0;34m\u001b[0m\u001b[0;34m\u001b[0m\u001b[0m\n\u001b[0;32m----> 7\u001b[0;31m     \u001b[0;32mraise\u001b[0m \u001b[0mexception\u001b[0m\u001b[0;34m[\u001b[0m\u001b[0;36m0\u001b[0m\u001b[0;34m]\u001b[0m \u001b[0;32mfrom\u001b[0m \u001b[0;32mNone\u001b[0m\u001b[0;34m\u001b[0m\u001b[0;34m\u001b[0m\u001b[0m\n\u001b[0m",
      "\u001b[0;32m~/Documents/code/algorithmic_recourse_dynamics/src/python/dynamic_recourse/recourse_generator.py\u001b[0m in \u001b[0;36mrecourse_worker\u001b[0;34m(generator, factual)\u001b[0m\n\u001b[1;32m    173\u001b[0m         \u001b[0;32mraise\u001b[0m \u001b[0mValueError\u001b[0m\u001b[0;34m(\u001b[0m\u001b[0;34m'Provided with a non-existent factual'\u001b[0m\u001b[0;34m)\u001b[0m\u001b[0;34m\u001b[0m\u001b[0;34m\u001b[0m\u001b[0m\n\u001b[1;32m    174\u001b[0m \u001b[0;34m\u001b[0m\u001b[0m\n\u001b[0;32m--> 175\u001b[0;31m     \u001b[0mcounterfactuals\u001b[0m \u001b[0;34m=\u001b[0m \u001b[0mgenerator\u001b[0m\u001b[0;34m.\u001b[0m\u001b[0mget_counterfactuals\u001b[0m\u001b[0;34m(\u001b[0m\u001b[0mfactual\u001b[0m\u001b[0;34m)\u001b[0m\u001b[0;34m.\u001b[0m\u001b[0mdropna\u001b[0m\u001b[0;34m(\u001b[0m\u001b[0;34m)\u001b[0m\u001b[0;34m\u001b[0m\u001b[0;34m\u001b[0m\u001b[0m\n\u001b[0m\u001b[1;32m    176\u001b[0m     \u001b[0;32mif\u001b[0m \u001b[0;32mnot\u001b[0m \u001b[0mcounterfactuals\u001b[0m\u001b[0;34m.\u001b[0m\u001b[0mempty\u001b[0m\u001b[0;34m:\u001b[0m\u001b[0;34m\u001b[0m\u001b[0;34m\u001b[0m\u001b[0m\n\u001b[1;32m    177\u001b[0m         \u001b[0;32mreturn\u001b[0m \u001b[0mcounterfactuals\u001b[0m\u001b[0;34m.\u001b[0m\u001b[0msample\u001b[0m\u001b[0;34m(\u001b[0m\u001b[0;34m)\u001b[0m\u001b[0;34m.\u001b[0m\u001b[0mastype\u001b[0m\u001b[0;34m(\u001b[0m\u001b[0mfloat\u001b[0m\u001b[0;34m)\u001b[0m\u001b[0;34m\u001b[0m\u001b[0;34m\u001b[0m\u001b[0m\n",
      "\u001b[0;32m~/.pyenv/versions/3.7.10/lib/python3.7/site-packages/carla/recourse_methods/catalog/wachter/model.py\u001b[0m in \u001b[0;36mget_counterfactuals\u001b[0;34m(self, factuals)\u001b[0m\n\u001b[1;32m    113\u001b[0m             ),\n\u001b[1;32m    114\u001b[0m             \u001b[0mraw\u001b[0m\u001b[0;34m=\u001b[0m\u001b[0;32mTrue\u001b[0m\u001b[0;34m,\u001b[0m\u001b[0;34m\u001b[0m\u001b[0;34m\u001b[0m\u001b[0m\n\u001b[0;32m--> 115\u001b[0;31m             \u001b[0maxis\u001b[0m\u001b[0;34m=\u001b[0m\u001b[0;36m1\u001b[0m\u001b[0;34m,\u001b[0m\u001b[0;34m\u001b[0m\u001b[0;34m\u001b[0m\u001b[0m\n\u001b[0m\u001b[1;32m    116\u001b[0m         )\n\u001b[1;32m    117\u001b[0m \u001b[0;34m\u001b[0m\u001b[0m\n",
      "\u001b[0;32m~/.pyenv/versions/3.7.10/lib/python3.7/site-packages/pandas/core/frame.py\u001b[0m in \u001b[0;36mapply\u001b[0;34m(self, func, axis, raw, result_type, args, **kwds)\u001b[0m\n\u001b[1;32m   7550\u001b[0m             \u001b[0mkwds\u001b[0m\u001b[0;34m=\u001b[0m\u001b[0mkwds\u001b[0m\u001b[0;34m,\u001b[0m\u001b[0;34m\u001b[0m\u001b[0;34m\u001b[0m\u001b[0m\n\u001b[1;32m   7551\u001b[0m         )\n\u001b[0;32m-> 7552\u001b[0;31m         \u001b[0;32mreturn\u001b[0m \u001b[0mop\u001b[0m\u001b[0;34m.\u001b[0m\u001b[0mget_result\u001b[0m\u001b[0;34m(\u001b[0m\u001b[0;34m)\u001b[0m\u001b[0;34m\u001b[0m\u001b[0;34m\u001b[0m\u001b[0m\n\u001b[0m\u001b[1;32m   7553\u001b[0m \u001b[0;34m\u001b[0m\u001b[0m\n\u001b[1;32m   7554\u001b[0m     \u001b[0;32mdef\u001b[0m \u001b[0mapplymap\u001b[0m\u001b[0;34m(\u001b[0m\u001b[0mself\u001b[0m\u001b[0;34m,\u001b[0m \u001b[0mfunc\u001b[0m\u001b[0;34m)\u001b[0m \u001b[0;34m->\u001b[0m \u001b[0;34m\"DataFrame\"\u001b[0m\u001b[0;34m:\u001b[0m\u001b[0;34m\u001b[0m\u001b[0;34m\u001b[0m\u001b[0m\n",
      "\u001b[0;32m~/.pyenv/versions/3.7.10/lib/python3.7/site-packages/pandas/core/apply.py\u001b[0m in \u001b[0;36mget_result\u001b[0;34m(self)\u001b[0m\n\u001b[1;32m    176\u001b[0m         \u001b[0;31m# raw\u001b[0m\u001b[0;34m\u001b[0m\u001b[0;34m\u001b[0m\u001b[0;34m\u001b[0m\u001b[0m\n\u001b[1;32m    177\u001b[0m         \u001b[0;32melif\u001b[0m \u001b[0mself\u001b[0m\u001b[0;34m.\u001b[0m\u001b[0mraw\u001b[0m\u001b[0;34m:\u001b[0m\u001b[0;34m\u001b[0m\u001b[0;34m\u001b[0m\u001b[0m\n\u001b[0;32m--> 178\u001b[0;31m             \u001b[0;32mreturn\u001b[0m \u001b[0mself\u001b[0m\u001b[0;34m.\u001b[0m\u001b[0mapply_raw\u001b[0m\u001b[0;34m(\u001b[0m\u001b[0;34m)\u001b[0m\u001b[0;34m\u001b[0m\u001b[0;34m\u001b[0m\u001b[0m\n\u001b[0m\u001b[1;32m    179\u001b[0m \u001b[0;34m\u001b[0m\u001b[0m\n\u001b[1;32m    180\u001b[0m         \u001b[0;32mreturn\u001b[0m \u001b[0mself\u001b[0m\u001b[0;34m.\u001b[0m\u001b[0mapply_standard\u001b[0m\u001b[0;34m(\u001b[0m\u001b[0;34m)\u001b[0m\u001b[0;34m\u001b[0m\u001b[0;34m\u001b[0m\u001b[0m\n",
      "\u001b[0;32m~/.pyenv/versions/3.7.10/lib/python3.7/site-packages/pandas/core/apply.py\u001b[0m in \u001b[0;36mapply_raw\u001b[0;34m(self)\u001b[0m\n\u001b[1;32m    233\u001b[0m             \u001b[0;32mreturn\u001b[0m \u001b[0mwrapper\u001b[0m\u001b[0;34m\u001b[0m\u001b[0;34m\u001b[0m\u001b[0m\n\u001b[1;32m    234\u001b[0m \u001b[0;34m\u001b[0m\u001b[0m\n\u001b[0;32m--> 235\u001b[0;31m         \u001b[0mresult\u001b[0m \u001b[0;34m=\u001b[0m \u001b[0mnp\u001b[0m\u001b[0;34m.\u001b[0m\u001b[0mapply_along_axis\u001b[0m\u001b[0;34m(\u001b[0m\u001b[0mwrap_function\u001b[0m\u001b[0;34m(\u001b[0m\u001b[0mself\u001b[0m\u001b[0;34m.\u001b[0m\u001b[0mf\u001b[0m\u001b[0;34m)\u001b[0m\u001b[0;34m,\u001b[0m \u001b[0mself\u001b[0m\u001b[0;34m.\u001b[0m\u001b[0maxis\u001b[0m\u001b[0;34m,\u001b[0m \u001b[0mself\u001b[0m\u001b[0;34m.\u001b[0m\u001b[0mvalues\u001b[0m\u001b[0;34m)\u001b[0m\u001b[0;34m\u001b[0m\u001b[0;34m\u001b[0m\u001b[0m\n\u001b[0m\u001b[1;32m    236\u001b[0m \u001b[0;34m\u001b[0m\u001b[0m\n\u001b[1;32m    237\u001b[0m         \u001b[0;31m# TODO: mixed type case\u001b[0m\u001b[0;34m\u001b[0m\u001b[0;34m\u001b[0m\u001b[0;34m\u001b[0m\u001b[0m\n",
      "\u001b[0;32m<__array_function__ internals>\u001b[0m in \u001b[0;36mapply_along_axis\u001b[0;34m(*args, **kwargs)\u001b[0m\n",
      "\u001b[0;32m~/.pyenv/versions/3.7.10/lib/python3.7/site-packages/numpy/lib/shape_base.py\u001b[0m in \u001b[0;36mapply_along_axis\u001b[0;34m(func1d, axis, arr, *args, **kwargs)\u001b[0m\n\u001b[1;32m    377\u001b[0m             \u001b[0;34m'Cannot apply_along_axis when any iteration dimensions are 0'\u001b[0m\u001b[0;34m\u001b[0m\u001b[0;34m\u001b[0m\u001b[0m\n\u001b[1;32m    378\u001b[0m         ) from None\n\u001b[0;32m--> 379\u001b[0;31m     \u001b[0mres\u001b[0m \u001b[0;34m=\u001b[0m \u001b[0masanyarray\u001b[0m\u001b[0;34m(\u001b[0m\u001b[0mfunc1d\u001b[0m\u001b[0;34m(\u001b[0m\u001b[0minarr_view\u001b[0m\u001b[0;34m[\u001b[0m\u001b[0mind0\u001b[0m\u001b[0;34m]\u001b[0m\u001b[0;34m,\u001b[0m \u001b[0;34m*\u001b[0m\u001b[0margs\u001b[0m\u001b[0;34m,\u001b[0m \u001b[0;34m**\u001b[0m\u001b[0mkwargs\u001b[0m\u001b[0;34m)\u001b[0m\u001b[0;34m)\u001b[0m\u001b[0;34m\u001b[0m\u001b[0;34m\u001b[0m\u001b[0m\n\u001b[0m\u001b[1;32m    380\u001b[0m \u001b[0;34m\u001b[0m\u001b[0m\n\u001b[1;32m    381\u001b[0m     \u001b[0;31m# build a buffer for storing evaluations of func1d.\u001b[0m\u001b[0;34m\u001b[0m\u001b[0;34m\u001b[0m\u001b[0;34m\u001b[0m\u001b[0m\n",
      "\u001b[0;32m~/.pyenv/versions/3.7.10/lib/python3.7/site-packages/pandas/core/apply.py\u001b[0m in \u001b[0;36mwrapper\u001b[0;34m(*args, **kwargs)\u001b[0m\n\u001b[1;32m    226\u001b[0m \u001b[0;34m\u001b[0m\u001b[0m\n\u001b[1;32m    227\u001b[0m             \u001b[0;32mdef\u001b[0m \u001b[0mwrapper\u001b[0m\u001b[0;34m(\u001b[0m\u001b[0;34m*\u001b[0m\u001b[0margs\u001b[0m\u001b[0;34m,\u001b[0m \u001b[0;34m**\u001b[0m\u001b[0mkwargs\u001b[0m\u001b[0;34m)\u001b[0m\u001b[0;34m:\u001b[0m\u001b[0;34m\u001b[0m\u001b[0;34m\u001b[0m\u001b[0m\n\u001b[0;32m--> 228\u001b[0;31m                 \u001b[0mresult\u001b[0m \u001b[0;34m=\u001b[0m \u001b[0mfunc\u001b[0m\u001b[0;34m(\u001b[0m\u001b[0;34m*\u001b[0m\u001b[0margs\u001b[0m\u001b[0;34m,\u001b[0m \u001b[0;34m**\u001b[0m\u001b[0mkwargs\u001b[0m\u001b[0;34m)\u001b[0m\u001b[0;34m\u001b[0m\u001b[0;34m\u001b[0m\u001b[0m\n\u001b[0m\u001b[1;32m    229\u001b[0m                 \u001b[0;32mif\u001b[0m \u001b[0misinstance\u001b[0m\u001b[0;34m(\u001b[0m\u001b[0mresult\u001b[0m\u001b[0;34m,\u001b[0m \u001b[0mstr\u001b[0m\u001b[0;34m)\u001b[0m\u001b[0;34m:\u001b[0m\u001b[0;34m\u001b[0m\u001b[0;34m\u001b[0m\u001b[0m\n\u001b[1;32m    230\u001b[0m                     \u001b[0mresult\u001b[0m \u001b[0;34m=\u001b[0m \u001b[0mnp\u001b[0m\u001b[0;34m.\u001b[0m\u001b[0marray\u001b[0m\u001b[0;34m(\u001b[0m\u001b[0mresult\u001b[0m\u001b[0;34m,\u001b[0m \u001b[0mdtype\u001b[0m\u001b[0;34m=\u001b[0m\u001b[0mobject\u001b[0m\u001b[0;34m)\u001b[0m\u001b[0;34m\u001b[0m\u001b[0;34m\u001b[0m\u001b[0m\n",
      "\u001b[0;32m~/.pyenv/versions/3.7.10/lib/python3.7/site-packages/carla/recourse_methods/catalog/wachter/model.py\u001b[0m in \u001b[0;36m<lambda>\u001b[0;34m(x)\u001b[0m\n\u001b[1;32m    110\u001b[0m                 \u001b[0mnorm\u001b[0m\u001b[0;34m=\u001b[0m\u001b[0mself\u001b[0m\u001b[0;34m.\u001b[0m\u001b[0m_norm\u001b[0m\u001b[0;34m,\u001b[0m\u001b[0;34m\u001b[0m\u001b[0;34m\u001b[0m\u001b[0m\n\u001b[1;32m    111\u001b[0m                 \u001b[0mclamp\u001b[0m\u001b[0;34m=\u001b[0m\u001b[0mself\u001b[0m\u001b[0;34m.\u001b[0m\u001b[0m_clamp\u001b[0m\u001b[0;34m,\u001b[0m\u001b[0;34m\u001b[0m\u001b[0;34m\u001b[0m\u001b[0m\n\u001b[0;32m--> 112\u001b[0;31m                 \u001b[0mloss_type\u001b[0m\u001b[0;34m=\u001b[0m\u001b[0mself\u001b[0m\u001b[0;34m.\u001b[0m\u001b[0m_loss_type\u001b[0m\u001b[0;34m,\u001b[0m\u001b[0;34m\u001b[0m\u001b[0;34m\u001b[0m\u001b[0m\n\u001b[0m\u001b[1;32m    113\u001b[0m             ),\n\u001b[1;32m    114\u001b[0m             \u001b[0mraw\u001b[0m\u001b[0;34m=\u001b[0m\u001b[0;32mTrue\u001b[0m\u001b[0;34m,\u001b[0m\u001b[0;34m\u001b[0m\u001b[0;34m\u001b[0m\u001b[0m\n",
      "\u001b[0;32m~/.pyenv/versions/3.7.10/lib/python3.7/site-packages/carla/recourse_methods/catalog/wachter/library/wachter.py\u001b[0m in \u001b[0;36mwachter_recourse\u001b[0;34m(torch_model, x, cat_feature_indices, binary_cat_features, feature_costs, lr, lambda_param, y_target, n_iter, t_max_min, norm, clamp, loss_type)\u001b[0m\n\u001b[1;32m     93\u001b[0m \u001b[0;34m\u001b[0m\u001b[0m\n\u001b[1;32m     94\u001b[0m     \u001b[0;31m# get the probablity of the target class\u001b[0m\u001b[0;34m\u001b[0m\u001b[0;34m\u001b[0m\u001b[0;34m\u001b[0m\u001b[0m\n\u001b[0;32m---> 95\u001b[0;31m     \u001b[0mf_x_new\u001b[0m \u001b[0;34m=\u001b[0m \u001b[0mtorch_model\u001b[0m\u001b[0;34m(\u001b[0m\u001b[0mx_new\u001b[0m\u001b[0;34m)\u001b[0m\u001b[0;34m[\u001b[0m\u001b[0;34m:\u001b[0m\u001b[0;34m,\u001b[0m \u001b[0mtarget_class\u001b[0m\u001b[0;34m]\u001b[0m\u001b[0;34m\u001b[0m\u001b[0;34m\u001b[0m\u001b[0m\n\u001b[0m\u001b[1;32m     96\u001b[0m \u001b[0;34m\u001b[0m\u001b[0m\n\u001b[1;32m     97\u001b[0m     \u001b[0mt0\u001b[0m \u001b[0;34m=\u001b[0m \u001b[0mdatetime\u001b[0m\u001b[0;34m.\u001b[0m\u001b[0mdatetime\u001b[0m\u001b[0;34m.\u001b[0m\u001b[0mnow\u001b[0m\u001b[0;34m(\u001b[0m\u001b[0;34m)\u001b[0m\u001b[0;34m\u001b[0m\u001b[0;34m\u001b[0m\u001b[0m\n",
      "\u001b[0;31mIndexError\u001b[0m: tensors used as indices must be long, byte or bool tensors"
     ]
    }
   ],
   "source": [
    "hyper_params = {'learning_rate': 0.01, 'epochs': 10, 'batch_size': 1, 'hidden_size': [5]}\n",
    "name='GMSC_experiment'\n",
    "timeout_seconds = 120\n",
    "n_folds = 5\n",
    "epochs = 1\n",
    "rounds_per_epoch = 10\n",
    "\n",
    "# Revise params\n",
    "def revise_params(model, name=name):\n",
    "  revise_params = {\n",
    "    \"data_name\": name, \n",
    "    \"optimizer\": \"adam\", \n",
    "    \"vae_params\": {\n",
    "      \"train\": True,\n",
    "      \"layers\": [len(model.feature_input_order), 512, 256, 8], \n",
    "    }\n",
    "  }\n",
    "  return revise_params\n",
    "\n",
    "## Clue params\n",
    "clue_params = {\n",
    "  \"data_name\": \"custom\",\n",
    "  \"train_vae\": True,\n",
    "  \"width\": 10,\n",
    "  \"depth\": 3,\n",
    "  \"latent_dim\": 12,\n",
    "  \"batch_size\": 4,\n",
    "  \"epochs\": 5,\n",
    "  \"lr\": 0.0001,\n",
    "  \"early_stop\": 20,\n",
    "}\n",
    "\n",
    "# SET NAME BEFORE THE EXPERIMENT\n",
    "for index in range(n_folds):\n",
    "\n",
    "  # Recourse generated by DICE is compared with the Wachter generator, as they may modify data differently\n",
    "  # we need to keep track of two models and two datasets and update them independently\n",
    "  model = train_model(deepcopy(dataset), hyper_params, model_type='ann')\n",
    "\n",
    "  generators = [\n",
    "    RecourseGenerator(\n",
    "      'Wachter', deepcopy(dataset), deepcopy(model),\n",
    "      Wachter, {\"loss_type\": \"BCE\", \"t_max_min\": 2}, hyper_params, timeout_seconds\n",
    "    ),\n",
    "    RecourseGenerator(\n",
    "      'DICE_3', deepcopy(dataset), deepcopy(model),\n",
    "      Dice, {\"num\": 3}, hyper_params, timeout_seconds\n",
    "    ),\n",
    "    RecourseGenerator(\n",
    "      'REVISE', deepcopy(dataset), deepcopy(model),\n",
    "      Revise, revise_params(model), hyper_params, timeout_seconds\n",
    "    ),\n",
    "    RecourseGenerator(\n",
    "      'CLUE', deepcopy(dataset), deepcopy(model),\n",
    "      Clue, clue_params, hyper_params, timeout_seconds\n",
    "    )\n",
    "  ]\n",
    "\n",
    "  experiment = RecourseExperiment(dataset, model, generators, name, hyper_params)\n",
    "  experiment.run(epochs=epochs, recourse_per_epoch=rounds_per_epoch, calculate_p=1500)\n",
    "  experiment.save_data()"
   ]
  },
  {
   "cell_type": "markdown",
   "metadata": {},
   "source": [
    "We also provide multiple functions that simplify the visualization of collected data."
   ]
  },
  {
   "cell_type": "code",
   "execution_count": null,
   "metadata": {},
   "outputs": [],
   "source": [
    "experiment_path = f'../experiment_data/{experiment.experiment_name}'\n",
    "for g in generators:\n",
    "    generate_gif(experiment_path, g.name)"
   ]
  },
  {
   "cell_type": "code",
   "execution_count": null,
   "metadata": {},
   "outputs": [],
   "source": [
    "config = [\n",
    "    {'type': 'pos_MMD', 'dict_path': ['MMD', 'positive', 'value']},\n",
    "    {'type': 'neg_MMD', 'dict_path': ['MMD', 'negative', 'value']},\n",
    "    {'type': 'pos_distance', 'dict_path': ['decisiveness', 'positive']},\n",
    "    {'type': 'neg_distance', 'dict_path': ['decisiveness', 'negative']},\n",
    "    {'type': 'disagreement', 'dict_path': ['disagreement']},\n",
    "    {'type': 'model_MMD', 'dict_path': ['model_MMD', 'value']}\n",
    "]\n",
    "\n",
    "for c in config:\n",
    "    plot_experiment(experiment_path,\n",
    "                    [g.name for g in generators],\n",
    "                    c['type'],\n",
    "                    c['dict_path'],\n",
    "                    show_plot=False)"
   ]
  }
 ],
 "metadata": {
  "kernelspec": {
   "display_name": "Python 3.7.10 64-bit ('3.7.10')",
   "language": "python",
   "name": "python3"
  },
  "language_info": {
   "codemirror_mode": {
    "name": "ipython",
    "version": 3
   },
   "file_extension": ".py",
   "mimetype": "text/x-python",
   "name": "python",
   "nbconvert_exporter": "python",
   "pygments_lexer": "ipython3",
   "version": "3.7.10"
  },
  "vscode": {
   "interpreter": {
    "hash": "23c370e2d3bc171ca865cf23016babf990076c8608e0234ac7dca89d0bc6e98c"
   }
  }
 },
 "nbformat": 4,
 "nbformat_minor": 4
}
